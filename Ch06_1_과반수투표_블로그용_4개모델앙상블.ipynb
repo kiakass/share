{
  "nbformat": 4,
  "nbformat_minor": 0,
  "metadata": {
    "kernelspec": {
      "display_name": "Python 3",
      "language": "python",
      "name": "python3"
    },
    "language_info": {
      "codemirror_mode": {
        "name": "ipython",
        "version": 3
      },
      "file_extension": ".py",
      "mimetype": "text/x-python",
      "name": "python",
      "nbconvert_exporter": "python",
      "pygments_lexer": "ipython3",
      "version": "3.6.9"
    },
    "colab": {
      "name": "Ch06_1.과반수투표_블로그용_4개모델앙상블.ipynb",
      "provenance": [],
      "collapsed_sections": [],
      "toc_visible": true,
      "machine_shape": "hm",
      "include_colab_link": true
    },
    "accelerator": "TPU"
  },
  "cells": [
    {
      "cell_type": "markdown",
      "metadata": {
        "id": "view-in-github",
        "colab_type": "text"
      },
      "source": [
        "<a href=\"https://colab.research.google.com/github/kiakass/share/blob/master/Ch06_1_%EA%B3%BC%EB%B0%98%EC%88%98%ED%88%AC%ED%91%9C_%EB%B8%94%EB%A1%9C%EA%B7%B8%EC%9A%A9_4%EA%B0%9C%EB%AA%A8%EB%8D%B8%EC%95%99%EC%83%81%EB%B8%94.ipynb\" target=\"_parent\"><img src=\"https://colab.research.google.com/assets/colab-badge.svg\" alt=\"Open In Colab\"/></a>"
      ]
    },
    {
      "cell_type": "markdown",
      "metadata": {
        "id": "UM1_hdAakQoa"
      },
      "source": [
        "# Ch06_1.과반수 투표(Majority Voting)"
      ]
    },
    {
      "cell_type": "markdown",
      "metadata": {
        "id": "TKYjXjxEkQob"
      },
      "source": [
        "## 1.기본 package 설정"
      ]
    },
    {
      "cell_type": "code",
      "metadata": {
        "id": "apRyoQ9BkQoc"
      },
      "source": [
        "## 1.기본\n",
        "import numpy as np  # numpy 패키지 가져오기\n",
        "import matplotlib.pyplot as plt # 시각화 패키지 가져오기\n",
        "\n",
        "## 2.데이터 가져오기\n",
        "import pandas as pd # csv -> dataframe으로 전환\n",
        "from sklearn import datasets # python 저장 데이터 가져오기\n",
        "\n",
        "## 3.데이터 전처리\n",
        "from sklearn.preprocessing import StandardScaler # 연속변수의 표준화\n",
        "from sklearn.preprocessing import LabelEncoder # 범주형 변수 수치화\n",
        "\n",
        "# 4. 훈련/검증용 데이터 분리\n",
        "from sklearn.model_selection import train_test_split \n",
        "\n",
        "## 5.분류모델구축 (3장.p.83~130)\n",
        "from sklearn.tree import DecisionTreeClassifier # 결정 트리\n",
        "# from sklearn.naive_bayes import GaussianNB # 나이브 베이즈\n",
        "from sklearn.neighbors import KNeighborsClassifier # K-최근접 이웃\n",
        "# from sklearn.linear_model import Perceptron # 퍼셉트론\n",
        "from sklearn.linear_model import LogisticRegression # 로지스틱 회귀 모델\n",
        "# from sklearn.svm import SVC # 서포트 벡터 머신(SVM)\n",
        "# from sklearn.neural_network import MLPClassifier # 다층인공신경망\n",
        "\n",
        "## 5_1.앙상블 모델 구축 (7장.p.252~288)\n",
        "from sklearn.ensemble import VotingClassifier # 과반수 투표(Majority Voting) \n",
        "from sklearn.ensemble import BaggingClassifier # 배깅(Bagging) \n",
        "from sklearn.ensemble import AdaBoostClassifier # 부스팅(Boosting) \n",
        "from sklearn.ensemble import RandomForestClassifier # 랜덤 포레스트\n",
        "\n",
        "\n",
        "## 6.모델검정\n",
        "from sklearn.metrics import confusion_matrix, classification_report # 정오분류표\n",
        "from sklearn.metrics import accuracy_score, precision_score, recall_score, f1_score, roc_auc_score # 정확도, 민감도 등\n",
        "from sklearn.metrics import roc_curve, auc # ROC 곡선 그리기\n",
        "\n",
        "## 7.최적화\n",
        "from sklearn.model_selection import cross_validate # 교차타당도\n",
        "from sklearn.pipeline import make_pipeline # 파이프라인 구축\n",
        "from sklearn.model_selection import learning_curve, validation_curve # 학습곡선, 검증곡선\n",
        "from sklearn.model_selection import GridSearchCV # 하이퍼파라미터 튜닝\n",
        "from sklearn.model_selection import cross_val_score # 교차타당도 # 추가"
      ],
      "execution_count": 1,
      "outputs": []
    },
    {
      "cell_type": "markdown",
      "metadata": {
        "id": "ePHRCzjzkQof"
      },
      "source": [
        "## 2.데이터 가져오기"
      ]
    },
    {
      "cell_type": "markdown",
      "metadata": {
        "id": "WvZjrqgakQof"
      },
      "source": [
        "### 2.1 데이터프레임으로 저장\n",
        "- 원본데이터(csv)를 dataframe 형태로 가져오기(pandas)"
      ]
    },
    {
      "cell_type": "code",
      "metadata": {
        "id": "evcdSHUVlJAx",
        "outputId": "8a1716c4-ba9f-40ad-9fad-ddb2a8481018",
        "colab": {
          "base_uri": "https://localhost:8080/",
          "height": 33
        }
      },
      "source": [
        "from google.colab import drive\n",
        "\n",
        "drive.mount('/content/gdrive')"
      ],
      "execution_count": 2,
      "outputs": [
        {
          "output_type": "stream",
          "text": [
            "Mounted at /content/gdrive\n"
          ],
          "name": "stdout"
        }
      ]
    },
    {
      "cell_type": "code",
      "metadata": {
        "id": "kTPhlAZRkQog",
        "outputId": "496a6b28-c23b-4d43-b8ae-bc9b4de498f5",
        "colab": {
          "base_uri": "https://localhost:8080/",
          "height": 197
        }
      },
      "source": [
        "bank_df = pd.read_csv('./gdrive/My Drive/data/bank.csv')\n",
        "bank_df.head()"
      ],
      "execution_count": 3,
      "outputs": [
        {
          "output_type": "execute_result",
          "data": {
            "text/html": [
              "<div>\n",
              "<style scoped>\n",
              "    .dataframe tbody tr th:only-of-type {\n",
              "        vertical-align: middle;\n",
              "    }\n",
              "\n",
              "    .dataframe tbody tr th {\n",
              "        vertical-align: top;\n",
              "    }\n",
              "\n",
              "    .dataframe thead th {\n",
              "        text-align: right;\n",
              "    }\n",
              "</style>\n",
              "<table border=\"1\" class=\"dataframe\">\n",
              "  <thead>\n",
              "    <tr style=\"text-align: right;\">\n",
              "      <th></th>\n",
              "      <th>Age</th>\n",
              "      <th>Experience</th>\n",
              "      <th>Income</th>\n",
              "      <th>Family</th>\n",
              "      <th>CCAvg</th>\n",
              "      <th>Education</th>\n",
              "      <th>Mortgage</th>\n",
              "      <th>Securities.Account</th>\n",
              "      <th>CD.Account</th>\n",
              "      <th>Online</th>\n",
              "      <th>CreditCard</th>\n",
              "      <th>Y</th>\n",
              "    </tr>\n",
              "  </thead>\n",
              "  <tbody>\n",
              "    <tr>\n",
              "      <th>0</th>\n",
              "      <td>25</td>\n",
              "      <td>1</td>\n",
              "      <td>49</td>\n",
              "      <td>4</td>\n",
              "      <td>1.6</td>\n",
              "      <td>1</td>\n",
              "      <td>0</td>\n",
              "      <td>1</td>\n",
              "      <td>0</td>\n",
              "      <td>0</td>\n",
              "      <td>0</td>\n",
              "      <td>0</td>\n",
              "    </tr>\n",
              "    <tr>\n",
              "      <th>1</th>\n",
              "      <td>45</td>\n",
              "      <td>19</td>\n",
              "      <td>34</td>\n",
              "      <td>3</td>\n",
              "      <td>1.5</td>\n",
              "      <td>1</td>\n",
              "      <td>0</td>\n",
              "      <td>1</td>\n",
              "      <td>0</td>\n",
              "      <td>0</td>\n",
              "      <td>0</td>\n",
              "      <td>0</td>\n",
              "    </tr>\n",
              "    <tr>\n",
              "      <th>2</th>\n",
              "      <td>39</td>\n",
              "      <td>15</td>\n",
              "      <td>11</td>\n",
              "      <td>1</td>\n",
              "      <td>1.0</td>\n",
              "      <td>1</td>\n",
              "      <td>0</td>\n",
              "      <td>0</td>\n",
              "      <td>0</td>\n",
              "      <td>0</td>\n",
              "      <td>0</td>\n",
              "      <td>0</td>\n",
              "    </tr>\n",
              "    <tr>\n",
              "      <th>3</th>\n",
              "      <td>35</td>\n",
              "      <td>9</td>\n",
              "      <td>100</td>\n",
              "      <td>1</td>\n",
              "      <td>2.7</td>\n",
              "      <td>2</td>\n",
              "      <td>0</td>\n",
              "      <td>0</td>\n",
              "      <td>0</td>\n",
              "      <td>0</td>\n",
              "      <td>0</td>\n",
              "      <td>0</td>\n",
              "    </tr>\n",
              "    <tr>\n",
              "      <th>4</th>\n",
              "      <td>35</td>\n",
              "      <td>8</td>\n",
              "      <td>45</td>\n",
              "      <td>4</td>\n",
              "      <td>1.0</td>\n",
              "      <td>2</td>\n",
              "      <td>0</td>\n",
              "      <td>0</td>\n",
              "      <td>0</td>\n",
              "      <td>0</td>\n",
              "      <td>1</td>\n",
              "      <td>0</td>\n",
              "    </tr>\n",
              "  </tbody>\n",
              "</table>\n",
              "</div>"
            ],
            "text/plain": [
              "   Age  Experience  Income  Family  ...  CD.Account  Online  CreditCard  Y\n",
              "0   25           1      49       4  ...           0       0           0  0\n",
              "1   45          19      34       3  ...           0       0           0  0\n",
              "2   39          15      11       1  ...           0       0           0  0\n",
              "3   35           9     100       1  ...           0       0           0  0\n",
              "4   35           8      45       4  ...           0       0           1  0\n",
              "\n",
              "[5 rows x 12 columns]"
            ]
          },
          "metadata": {
            "tags": []
          },
          "execution_count": 3
        }
      ]
    },
    {
      "cell_type": "markdown",
      "metadata": {
        "id": "o3xYO4uXkQoj"
      },
      "source": [
        "- 자료구조 살펴보기"
      ]
    },
    {
      "cell_type": "code",
      "metadata": {
        "id": "CmVv3PzEkQoj",
        "outputId": "f58d6cf4-2c91-4026-8af0-0f523f9fafc3",
        "colab": {
          "base_uri": "https://localhost:8080/",
          "height": 33
        }
      },
      "source": [
        "bank_df.shape"
      ],
      "execution_count": 4,
      "outputs": [
        {
          "output_type": "execute_result",
          "data": {
            "text/plain": [
              "(5000, 12)"
            ]
          },
          "metadata": {
            "tags": []
          },
          "execution_count": 4
        }
      ]
    },
    {
      "cell_type": "code",
      "metadata": {
        "id": "NsRumNFWkQom",
        "outputId": "41baa4dd-4b5c-4c04-bed4-64d10df2b947",
        "colab": {
          "base_uri": "https://localhost:8080/",
          "height": 83
        }
      },
      "source": [
        "# 자료구조 살펴보기\n",
        "bank_df.keys()"
      ],
      "execution_count": 5,
      "outputs": [
        {
          "output_type": "execute_result",
          "data": {
            "text/plain": [
              "Index(['Age', 'Experience', 'Income', 'Family', 'CCAvg', 'Education',\n",
              "       'Mortgage', 'Securities.Account', 'CD.Account', 'Online', 'CreditCard',\n",
              "       'Y'],\n",
              "      dtype='object')"
            ]
          },
          "metadata": {
            "tags": []
          },
          "execution_count": 5
        }
      ]
    },
    {
      "cell_type": "markdown",
      "metadata": {
        "id": "MH2-NBgzkQoo"
      },
      "source": [
        "### 2.2 data와 target으로 분리\n",
        "- 필요한 데이터만 추출\n",
        "- data: X, target: y 로 분리"
      ]
    },
    {
      "cell_type": "code",
      "metadata": {
        "id": "aUruqft0kQop",
        "outputId": "952213da-d729-4633-ce8f-ec6fac9d6a48",
        "colab": {
          "base_uri": "https://localhost:8080/",
          "height": 197
        }
      },
      "source": [
        "X = bank_df.drop(['Y'], axis=1)\n",
        "X.head()"
      ],
      "execution_count": 6,
      "outputs": [
        {
          "output_type": "execute_result",
          "data": {
            "text/html": [
              "<div>\n",
              "<style scoped>\n",
              "    .dataframe tbody tr th:only-of-type {\n",
              "        vertical-align: middle;\n",
              "    }\n",
              "\n",
              "    .dataframe tbody tr th {\n",
              "        vertical-align: top;\n",
              "    }\n",
              "\n",
              "    .dataframe thead th {\n",
              "        text-align: right;\n",
              "    }\n",
              "</style>\n",
              "<table border=\"1\" class=\"dataframe\">\n",
              "  <thead>\n",
              "    <tr style=\"text-align: right;\">\n",
              "      <th></th>\n",
              "      <th>Age</th>\n",
              "      <th>Experience</th>\n",
              "      <th>Income</th>\n",
              "      <th>Family</th>\n",
              "      <th>CCAvg</th>\n",
              "      <th>Education</th>\n",
              "      <th>Mortgage</th>\n",
              "      <th>Securities.Account</th>\n",
              "      <th>CD.Account</th>\n",
              "      <th>Online</th>\n",
              "      <th>CreditCard</th>\n",
              "    </tr>\n",
              "  </thead>\n",
              "  <tbody>\n",
              "    <tr>\n",
              "      <th>0</th>\n",
              "      <td>25</td>\n",
              "      <td>1</td>\n",
              "      <td>49</td>\n",
              "      <td>4</td>\n",
              "      <td>1.6</td>\n",
              "      <td>1</td>\n",
              "      <td>0</td>\n",
              "      <td>1</td>\n",
              "      <td>0</td>\n",
              "      <td>0</td>\n",
              "      <td>0</td>\n",
              "    </tr>\n",
              "    <tr>\n",
              "      <th>1</th>\n",
              "      <td>45</td>\n",
              "      <td>19</td>\n",
              "      <td>34</td>\n",
              "      <td>3</td>\n",
              "      <td>1.5</td>\n",
              "      <td>1</td>\n",
              "      <td>0</td>\n",
              "      <td>1</td>\n",
              "      <td>0</td>\n",
              "      <td>0</td>\n",
              "      <td>0</td>\n",
              "    </tr>\n",
              "    <tr>\n",
              "      <th>2</th>\n",
              "      <td>39</td>\n",
              "      <td>15</td>\n",
              "      <td>11</td>\n",
              "      <td>1</td>\n",
              "      <td>1.0</td>\n",
              "      <td>1</td>\n",
              "      <td>0</td>\n",
              "      <td>0</td>\n",
              "      <td>0</td>\n",
              "      <td>0</td>\n",
              "      <td>0</td>\n",
              "    </tr>\n",
              "    <tr>\n",
              "      <th>3</th>\n",
              "      <td>35</td>\n",
              "      <td>9</td>\n",
              "      <td>100</td>\n",
              "      <td>1</td>\n",
              "      <td>2.7</td>\n",
              "      <td>2</td>\n",
              "      <td>0</td>\n",
              "      <td>0</td>\n",
              "      <td>0</td>\n",
              "      <td>0</td>\n",
              "      <td>0</td>\n",
              "    </tr>\n",
              "    <tr>\n",
              "      <th>4</th>\n",
              "      <td>35</td>\n",
              "      <td>8</td>\n",
              "      <td>45</td>\n",
              "      <td>4</td>\n",
              "      <td>1.0</td>\n",
              "      <td>2</td>\n",
              "      <td>0</td>\n",
              "      <td>0</td>\n",
              "      <td>0</td>\n",
              "      <td>0</td>\n",
              "      <td>1</td>\n",
              "    </tr>\n",
              "  </tbody>\n",
              "</table>\n",
              "</div>"
            ],
            "text/plain": [
              "   Age  Experience  Income  ...  CD.Account  Online  CreditCard\n",
              "0   25           1      49  ...           0       0           0\n",
              "1   45          19      34  ...           0       0           0\n",
              "2   39          15      11  ...           0       0           0\n",
              "3   35           9     100  ...           0       0           0\n",
              "4   35           8      45  ...           0       0           1\n",
              "\n",
              "[5 rows x 11 columns]"
            ]
          },
          "metadata": {
            "tags": []
          },
          "execution_count": 6
        }
      ]
    },
    {
      "cell_type": "code",
      "metadata": {
        "id": "bG0s-N-DkQor",
        "outputId": "1f6b30cf-89da-4dfe-c0ad-85cb3d6f41ad",
        "colab": {
          "base_uri": "https://localhost:8080/",
          "height": 33
        }
      },
      "source": [
        "y = bank_df['Y']\n",
        "np.bincount(y)"
      ],
      "execution_count": 7,
      "outputs": [
        {
          "output_type": "execute_result",
          "data": {
            "text/plain": [
              "array([4520,  480])"
            ]
          },
          "metadata": {
            "tags": []
          },
          "execution_count": 7
        }
      ]
    },
    {
      "cell_type": "markdown",
      "metadata": {
        "id": "WsQNBwKjkQou"
      },
      "source": [
        "## 3.데이터 전처리"
      ]
    },
    {
      "cell_type": "markdown",
      "metadata": {
        "id": "F7VasW9CkQov"
      },
      "source": [
        "### 3.1 data(X) 레이블 인코딩\n",
        "- 문자형 자료를 숫자(범주형)로 인코딩 -> 범주형 변수를 가변수로 처리 : One Hot Encording\n",
        "- 숫자형 자료를 표준화\n",
        "- 단, 결정나무, 랜덤 포레스트, 나이브 베이즈 분류 : 원본데이터 그대로 유지"
      ]
    },
    {
      "cell_type": "markdown",
      "metadata": {
        "id": "r_-xx7W6kQov"
      },
      "source": [
        "- 가변수 처리시 문자로 처리를 해야 변수명 구분이 쉬움"
      ]
    },
    {
      "cell_type": "code",
      "metadata": {
        "id": "M18zDlwekQow"
      },
      "source": [
        "###X['Education'] = X['Education'].replace ([1,2,3], ['Under','Grad','Prof'])\n",
        "#bank_df2 = pd.DataFrame(Y_class_onehot.astype(int), columns=['Education_G','Education_P','Education_U'])"
      ],
      "execution_count": 8,
      "outputs": []
    },
    {
      "cell_type": "code",
      "metadata": {
        "scrolled": true,
        "id": "2jsxODpXkQoy",
        "outputId": "996aa941-1859-46e8-a8e3-2dc37b5d9b41",
        "colab": {
          "base_uri": "https://localhost:8080/",
          "height": 197
        }
      },
      "source": [
        "X.head()"
      ],
      "execution_count": 9,
      "outputs": [
        {
          "output_type": "execute_result",
          "data": {
            "text/html": [
              "<div>\n",
              "<style scoped>\n",
              "    .dataframe tbody tr th:only-of-type {\n",
              "        vertical-align: middle;\n",
              "    }\n",
              "\n",
              "    .dataframe tbody tr th {\n",
              "        vertical-align: top;\n",
              "    }\n",
              "\n",
              "    .dataframe thead th {\n",
              "        text-align: right;\n",
              "    }\n",
              "</style>\n",
              "<table border=\"1\" class=\"dataframe\">\n",
              "  <thead>\n",
              "    <tr style=\"text-align: right;\">\n",
              "      <th></th>\n",
              "      <th>Age</th>\n",
              "      <th>Experience</th>\n",
              "      <th>Income</th>\n",
              "      <th>Family</th>\n",
              "      <th>CCAvg</th>\n",
              "      <th>Education</th>\n",
              "      <th>Mortgage</th>\n",
              "      <th>Securities.Account</th>\n",
              "      <th>CD.Account</th>\n",
              "      <th>Online</th>\n",
              "      <th>CreditCard</th>\n",
              "    </tr>\n",
              "  </thead>\n",
              "  <tbody>\n",
              "    <tr>\n",
              "      <th>0</th>\n",
              "      <td>25</td>\n",
              "      <td>1</td>\n",
              "      <td>49</td>\n",
              "      <td>4</td>\n",
              "      <td>1.6</td>\n",
              "      <td>1</td>\n",
              "      <td>0</td>\n",
              "      <td>1</td>\n",
              "      <td>0</td>\n",
              "      <td>0</td>\n",
              "      <td>0</td>\n",
              "    </tr>\n",
              "    <tr>\n",
              "      <th>1</th>\n",
              "      <td>45</td>\n",
              "      <td>19</td>\n",
              "      <td>34</td>\n",
              "      <td>3</td>\n",
              "      <td>1.5</td>\n",
              "      <td>1</td>\n",
              "      <td>0</td>\n",
              "      <td>1</td>\n",
              "      <td>0</td>\n",
              "      <td>0</td>\n",
              "      <td>0</td>\n",
              "    </tr>\n",
              "    <tr>\n",
              "      <th>2</th>\n",
              "      <td>39</td>\n",
              "      <td>15</td>\n",
              "      <td>11</td>\n",
              "      <td>1</td>\n",
              "      <td>1.0</td>\n",
              "      <td>1</td>\n",
              "      <td>0</td>\n",
              "      <td>0</td>\n",
              "      <td>0</td>\n",
              "      <td>0</td>\n",
              "      <td>0</td>\n",
              "    </tr>\n",
              "    <tr>\n",
              "      <th>3</th>\n",
              "      <td>35</td>\n",
              "      <td>9</td>\n",
              "      <td>100</td>\n",
              "      <td>1</td>\n",
              "      <td>2.7</td>\n",
              "      <td>2</td>\n",
              "      <td>0</td>\n",
              "      <td>0</td>\n",
              "      <td>0</td>\n",
              "      <td>0</td>\n",
              "      <td>0</td>\n",
              "    </tr>\n",
              "    <tr>\n",
              "      <th>4</th>\n",
              "      <td>35</td>\n",
              "      <td>8</td>\n",
              "      <td>45</td>\n",
              "      <td>4</td>\n",
              "      <td>1.0</td>\n",
              "      <td>2</td>\n",
              "      <td>0</td>\n",
              "      <td>0</td>\n",
              "      <td>0</td>\n",
              "      <td>0</td>\n",
              "      <td>1</td>\n",
              "    </tr>\n",
              "  </tbody>\n",
              "</table>\n",
              "</div>"
            ],
            "text/plain": [
              "   Age  Experience  Income  ...  CD.Account  Online  CreditCard\n",
              "0   25           1      49  ...           0       0           0\n",
              "1   45          19      34  ...           0       0           0\n",
              "2   39          15      11  ...           0       0           0\n",
              "3   35           9     100  ...           0       0           0\n",
              "4   35           8      45  ...           0       0           1\n",
              "\n",
              "[5 rows x 11 columns]"
            ]
          },
          "metadata": {
            "tags": []
          },
          "execution_count": 9
        }
      ]
    },
    {
      "cell_type": "code",
      "metadata": {
        "id": "w7FFNpzUkQo0",
        "outputId": "ccbb2348-59c6-4e02-c17c-6fabc207d7b3",
        "colab": {
          "base_uri": "https://localhost:8080/",
          "height": 66
        }
      },
      "source": [
        "X.keys()"
      ],
      "execution_count": 10,
      "outputs": [
        {
          "output_type": "execute_result",
          "data": {
            "text/plain": [
              "Index(['Age', 'Experience', 'Income', 'Family', 'CCAvg', 'Education',\n",
              "       'Mortgage', 'Securities.Account', 'CD.Account', 'Online', 'CreditCard'],\n",
              "      dtype='object')"
            ]
          },
          "metadata": {
            "tags": []
          },
          "execution_count": 10
        }
      ]
    },
    {
      "cell_type": "code",
      "metadata": {
        "id": "UTiW24K8kQo2"
      },
      "source": [
        "X = pd.get_dummies(X[['Age', 'Experience', 'Income', 'Family', 'CCAvg', 'Education',\n",
        "       'Mortgage', 'Securities.Account', 'CD.Account', 'Online', 'CreditCard']],\n",
        "                   columns=['Education'],\n",
        "                   drop_first = True)"
      ],
      "execution_count": 11,
      "outputs": []
    },
    {
      "cell_type": "code",
      "metadata": {
        "id": "nky9E86OkQo4",
        "outputId": "cb3f544b-ee7d-4642-e216-7c307eabd68c",
        "colab": {
          "base_uri": "https://localhost:8080/",
          "height": 197
        }
      },
      "source": [
        "X.head()"
      ],
      "execution_count": 12,
      "outputs": [
        {
          "output_type": "execute_result",
          "data": {
            "text/html": [
              "<div>\n",
              "<style scoped>\n",
              "    .dataframe tbody tr th:only-of-type {\n",
              "        vertical-align: middle;\n",
              "    }\n",
              "\n",
              "    .dataframe tbody tr th {\n",
              "        vertical-align: top;\n",
              "    }\n",
              "\n",
              "    .dataframe thead th {\n",
              "        text-align: right;\n",
              "    }\n",
              "</style>\n",
              "<table border=\"1\" class=\"dataframe\">\n",
              "  <thead>\n",
              "    <tr style=\"text-align: right;\">\n",
              "      <th></th>\n",
              "      <th>Age</th>\n",
              "      <th>Experience</th>\n",
              "      <th>Income</th>\n",
              "      <th>Family</th>\n",
              "      <th>CCAvg</th>\n",
              "      <th>Mortgage</th>\n",
              "      <th>Securities.Account</th>\n",
              "      <th>CD.Account</th>\n",
              "      <th>Online</th>\n",
              "      <th>CreditCard</th>\n",
              "      <th>Education_2</th>\n",
              "      <th>Education_3</th>\n",
              "    </tr>\n",
              "  </thead>\n",
              "  <tbody>\n",
              "    <tr>\n",
              "      <th>0</th>\n",
              "      <td>25</td>\n",
              "      <td>1</td>\n",
              "      <td>49</td>\n",
              "      <td>4</td>\n",
              "      <td>1.6</td>\n",
              "      <td>0</td>\n",
              "      <td>1</td>\n",
              "      <td>0</td>\n",
              "      <td>0</td>\n",
              "      <td>0</td>\n",
              "      <td>0</td>\n",
              "      <td>0</td>\n",
              "    </tr>\n",
              "    <tr>\n",
              "      <th>1</th>\n",
              "      <td>45</td>\n",
              "      <td>19</td>\n",
              "      <td>34</td>\n",
              "      <td>3</td>\n",
              "      <td>1.5</td>\n",
              "      <td>0</td>\n",
              "      <td>1</td>\n",
              "      <td>0</td>\n",
              "      <td>0</td>\n",
              "      <td>0</td>\n",
              "      <td>0</td>\n",
              "      <td>0</td>\n",
              "    </tr>\n",
              "    <tr>\n",
              "      <th>2</th>\n",
              "      <td>39</td>\n",
              "      <td>15</td>\n",
              "      <td>11</td>\n",
              "      <td>1</td>\n",
              "      <td>1.0</td>\n",
              "      <td>0</td>\n",
              "      <td>0</td>\n",
              "      <td>0</td>\n",
              "      <td>0</td>\n",
              "      <td>0</td>\n",
              "      <td>0</td>\n",
              "      <td>0</td>\n",
              "    </tr>\n",
              "    <tr>\n",
              "      <th>3</th>\n",
              "      <td>35</td>\n",
              "      <td>9</td>\n",
              "      <td>100</td>\n",
              "      <td>1</td>\n",
              "      <td>2.7</td>\n",
              "      <td>0</td>\n",
              "      <td>0</td>\n",
              "      <td>0</td>\n",
              "      <td>0</td>\n",
              "      <td>0</td>\n",
              "      <td>1</td>\n",
              "      <td>0</td>\n",
              "    </tr>\n",
              "    <tr>\n",
              "      <th>4</th>\n",
              "      <td>35</td>\n",
              "      <td>8</td>\n",
              "      <td>45</td>\n",
              "      <td>4</td>\n",
              "      <td>1.0</td>\n",
              "      <td>0</td>\n",
              "      <td>0</td>\n",
              "      <td>0</td>\n",
              "      <td>0</td>\n",
              "      <td>1</td>\n",
              "      <td>1</td>\n",
              "      <td>0</td>\n",
              "    </tr>\n",
              "  </tbody>\n",
              "</table>\n",
              "</div>"
            ],
            "text/plain": [
              "   Age  Experience  Income  ...  CreditCard  Education_2  Education_3\n",
              "0   25           1      49  ...           0            0            0\n",
              "1   45          19      34  ...           0            0            0\n",
              "2   39          15      11  ...           0            0            0\n",
              "3   35           9     100  ...           0            1            0\n",
              "4   35           8      45  ...           1            1            0\n",
              "\n",
              "[5 rows x 12 columns]"
            ]
          },
          "metadata": {
            "tags": []
          },
          "execution_count": 12
        }
      ]
    },
    {
      "cell_type": "markdown",
      "metadata": {
        "id": "RKOHmFb9kQo7"
      },
      "source": [
        "### 3.2 Class(target) 레이블 인코딩\n",
        "- class(y)가 숫자형으로 되어 있기 때문에 변환 없음"
      ]
    },
    {
      "cell_type": "code",
      "metadata": {
        "id": "v3aUD-o6kQo7",
        "outputId": "84a966cb-0a87-4481-d332-baf691fe305d",
        "colab": {
          "base_uri": "https://localhost:8080/",
          "height": 216
        }
      },
      "source": [
        "y"
      ],
      "execution_count": 13,
      "outputs": [
        {
          "output_type": "execute_result",
          "data": {
            "text/plain": [
              "0       0\n",
              "1       0\n",
              "2       0\n",
              "3       0\n",
              "4       0\n",
              "       ..\n",
              "4995    0\n",
              "4996    0\n",
              "4997    0\n",
              "4998    0\n",
              "4999    0\n",
              "Name: Y, Length: 5000, dtype: int64"
            ]
          },
          "metadata": {
            "tags": []
          },
          "execution_count": 13
        }
      ]
    },
    {
      "cell_type": "markdown",
      "metadata": {
        "id": "8xQdK1fzkQo-"
      },
      "source": [
        "## 4.훈련/검증용 데이터 분할\n",
        "- test_size: 검증데이터 30%\n",
        "- random_state : random seed 번호 = 1\n",
        "- stratify : y(클래스)의 비율에 따라 분할"
      ]
    },
    {
      "cell_type": "code",
      "metadata": {
        "id": "xYexeTBqkQo_"
      },
      "source": [
        "# \\ 이후에 space 없어야 함\n",
        "X_train, X_test, y_train, y_test = \\\n",
        "        train_test_split(X, y, \n",
        "                         test_size=0.3, \n",
        "                         random_state=1, \n",
        "                         stratify=y)"
      ],
      "execution_count": 14,
      "outputs": []
    },
    {
      "cell_type": "markdown",
      "metadata": {
        "id": "9DFKJrGmkQpB"
      },
      "source": [
        "## 5.모델구축\n",
        "- 여러 분류모델 구축"
      ]
    },
    {
      "cell_type": "code",
      "metadata": {
        "id": "I_5wQd-tkQpC"
      },
      "source": [
        "logistic = LogisticRegression(solver='liblinear',\n",
        "                              penalty='l2',\n",
        "                              C=0.001,\n",
        "                              random_state=1)\n",
        "\n",
        "tree = DecisionTreeClassifier(max_depth=None,\n",
        "                              criterion='entropy',\n",
        "                              random_state=1)\n",
        "\n",
        "knn = KNeighborsClassifier(n_neighbors=1,\n",
        "                            p=2,\n",
        "                            metric='minkowski')\n",
        "\n",
        "forest = RandomForestClassifier(criterion='gini', n_estimators=500, random_state=1)\n",
        "\n",
        "\n",
        "voting_estimators = [('logistic', logistic), ('tree', tree), ('knn', knn), ('forest', forest)]\n",
        "\n",
        "voting = VotingClassifier(estimators = voting_estimators,\n",
        "                          voting='soft')\n",
        "\n",
        "clf_labels = ['Logistic regression', 'Decision tree', 'KNN','Forest' ,'Majority voting']\n",
        "\n",
        "all_clf = [logistic, tree, knn,forest, voting]"
      ],
      "execution_count": 15,
      "outputs": []
    },
    {
      "cell_type": "markdown",
      "metadata": {
        "id": "dtQY-fmgkQpE"
      },
      "source": [
        "## 6. 모델검정"
      ]
    },
    {
      "cell_type": "markdown",
      "metadata": {
        "id": "-0weTBfakQpF"
      },
      "source": [
        "### 6.1 AUC 검정"
      ]
    },
    {
      "cell_type": "code",
      "metadata": {
        "id": "mEfNVI5FkQpF",
        "outputId": "9822edb7-91ec-4059-c2a1-729691f59e18",
        "colab": {
          "base_uri": "https://localhost:8080/",
          "height": 100
        }
      },
      "source": [
        "for clf, label in zip(all_clf, clf_labels):\n",
        "    scores = cross_val_score(estimator=clf,\n",
        "                             X=X_train,\n",
        "                             y=y_train,\n",
        "                             cv=10,\n",
        "                             scoring='roc_auc')\n",
        "    print(\"ROC AUC: %0.3f (+/- %0.3f) [%s]\"\n",
        "          % (scores.mean(), scores.std(), label))"
      ],
      "execution_count": 16,
      "outputs": [
        {
          "output_type": "stream",
          "text": [
            "ROC AUC: 0.923 (+/- 0.020) [Logistic regression]\n",
            "ROC AUC: 0.953 (+/- 0.024) [Decision tree]\n",
            "ROC AUC: 0.699 (+/- 0.043) [KNN]\n",
            "ROC AUC: 0.998 (+/- 0.002) [Forest]\n",
            "ROC AUC: 0.990 (+/- 0.005) [Majority voting]\n"
          ],
          "name": "stdout"
        }
      ]
    },
    {
      "cell_type": "markdown",
      "metadata": {
        "id": "hbZbIiQBkQpI"
      },
      "source": [
        "### 6.2 ROC 곡선 그리기"
      ]
    },
    {
      "cell_type": "code",
      "metadata": {
        "id": "9vJ-MdLWkQpJ",
        "outputId": "88236647-51b1-409f-87ca-e2abb813cf91",
        "colab": {
          "base_uri": "https://localhost:8080/",
          "height": 278
        }
      },
      "source": [
        "colors = ['black', 'orange', 'blue', 'green','gray']\n",
        "linestyles = [':', '--', '-.', '-',':']\n",
        "\n",
        "for clf, label, clr, ls \\\n",
        "        in zip(all_clf, clf_labels, colors, linestyles):\n",
        "\n",
        "    clf.fit(X_train, y_train)\n",
        "    y_pred = clf.predict_proba(X_test)[:, 1]\n",
        "    fpr, tpr, thresholds = roc_curve(y_true=y_test,\n",
        "                                     y_score=y_pred)\n",
        "    roc_auc = auc(x=fpr, y=tpr)\n",
        "    plt.plot(fpr, tpr,\n",
        "             color=clr,\n",
        "             linestyle=ls,\n",
        "             label='%s (auc = %0.3f)' % (label, roc_auc))\n",
        "\n",
        "plt.legend(loc='lower right')\n",
        "plt.plot([0, 1], [0, 1],\n",
        "         linestyle='--',\n",
        "         color='gray',\n",
        "         linewidth=2)\n",
        "\n",
        "plt.xlim([-0.1, 1.1])\n",
        "plt.ylim([-0.1, 1.1])\n",
        "plt.grid(alpha=0.5)\n",
        "plt.xlabel('False positive rate (FPR)')\n",
        "plt.ylabel('True positive rate (TPR)')\n",
        "\n",
        "plt.show()"
      ],
      "execution_count": 17,
      "outputs": [
        {
          "output_type": "display_data",
          "data": {
            "image/png": "[encoded data removed]",
            "text/plain": [
              "<Figure size 432x288 with 1 Axes>"
            ]
          },
          "metadata": {
            "tags": [],
            "needs_background": "light"
          }
        }
      ]
    },
    {
      "cell_type": "markdown",
      "metadata": {
        "id": "6c5mxTwWkQpL"
      },
      "source": [
        "## 7.최적화"
      ]
    },
    {
      "cell_type": "markdown",
      "metadata": {
        "id": "ryzNLoUnkQpM"
      },
      "source": [
        "### 7.1 하이퍼파라미터 튜닝\n",
        "- 그리드 서치를 사용한 머신 러닝 모델 세부 튜닝\n",
        "- 파라미터 확인"
      ]
    },
    {
      "cell_type": "code",
      "metadata": {
        "id": "7U_eULpfkQpM"
      },
      "source": [
        "#voting.get_params()"
      ],
      "execution_count": 18,
      "outputs": []
    },
    {
      "cell_type": "code",
      "metadata": {
        "id": "_aerF-IhmEq3"
      },
      "source": [
        "#help(forest)"
      ],
      "execution_count": 19,
      "outputs": []
    },
    {
      "cell_type": "code",
      "metadata": {
        "id": "K8mePID9IfIl",
        "outputId": "436df78d-4bf4-44ff-9618-060287f3872c",
        "colab": {
          "base_uri": "https://localhost:8080/",
          "height": 33
        }
      },
      "source": [
        "import time\n",
        "start = time.time()  # 시작 시간 저장\n",
        "print( \"Spend time : %.3f sec\" % (time.time() - start ))"
      ],
      "execution_count": 22,
      "outputs": [
        {
          "output_type": "stream",
          "text": [
            "Spend time : 0.000 sec\n"
          ],
          "name": "stdout"
        }
      ]
    },
    {
      "cell_type": "markdown",
      "metadata": {
        "id": "XLcpeME9kQpP"
      },
      "source": [
        "- 여러 분류 모델의 성능을 결정하는 하이퍼 파라미터 튜닝\n",
        "- colab 에서 GPU, Memory를 추가하고 forest를 추가하여 돌렸더니, 거의 한 시간이 소요됨. 돌아간것이 다행임^^\n"
      ]
    },
    {
      "cell_type": "code",
      "metadata": {
        "id": "7C-pKvzpkQpP",
        "outputId": "e5d85f22-36a0-46cf-ea60-1c4c1341de43",
        "colab": {
          "base_uri": "https://localhost:8080/",
          "height": 1000
        }
      },
      "source": [
        "params = {'logistic__C': [0.001, 0.1, 100.0],\n",
        "          'tree__max_depth': [1, 2, 3, 4, 5],\n",
        "          'knn__n_neighbors': [1, 2, 3, 4, 5],\n",
        "          'forest__n_estimators':[100,200,300,400,500]}\n",
        "\n",
        "grid = GridSearchCV(estimator=voting,\n",
        "                    param_grid=params,\n",
        "                    cv=10,\n",
        "                    scoring='roc_auc',\n",
        "                    iid=False)\n",
        "grid.fit(X_train, y_train)\n",
        "start = time.time()  # 시작 시간 저장\n",
        "for r, _ in enumerate(grid.cv_results_['mean_test_score']):\n",
        "    print(\"%0.3f +/- %0.3f %r\"\n",
        "          % (grid.cv_results_['mean_test_score'][r], \n",
        "             grid.cv_results_['std_test_score'][r] / 2.0, \n",
        "             grid.cv_results_['params'][r]))\n",
        "print( \"Spend time : %.3f sec\" % (time.time() - start ))"
      ],
      "execution_count": 23,
      "outputs": [
        {
          "output_type": "stream",
          "text": [
            "/usr/local/lib/python3.6/dist-packages/sklearn/model_selection/_search.py:823: FutureWarning: The parameter 'iid' is deprecated in 0.22 and will be removed in 0.24.\n",
            "  \"removed in 0.24.\", FutureWarning\n"
          ],
          "name": "stderr"
        },
        {
          "output_type": "stream",
          "text": [
            "0.972 +/- 0.005 {'forest__n_estimators': 100, 'knn__n_neighbors': 1, 'logistic__C': 0.001, 'tree__max_depth': 1}\n",
            "0.978 +/- 0.004 {'forest__n_estimators': 100, 'knn__n_neighbors': 1, 'logistic__C': 0.001, 'tree__max_depth': 2}\n",
            "0.984 +/- 0.004 {'forest__n_estimators': 100, 'knn__n_neighbors': 1, 'logistic__C': 0.001, 'tree__max_depth': 3}\n",
            "0.989 +/- 0.003 {'forest__n_estimators': 100, 'knn__n_neighbors': 1, 'logistic__C': 0.001, 'tree__max_depth': 4}\n",
            "0.990 +/- 0.003 {'forest__n_estimators': 100, 'knn__n_neighbors': 1, 'logistic__C': 0.001, 'tree__max_depth': 5}\n",
            "0.979 +/- 0.005 {'forest__n_estimators': 100, 'knn__n_neighbors': 1, 'logistic__C': 0.1, 'tree__max_depth': 1}\n",
            "0.984 +/- 0.003 {'forest__n_estimators': 100, 'knn__n_neighbors': 1, 'logistic__C': 0.1, 'tree__max_depth': 2}\n",
            "0.987 +/- 0.004 {'forest__n_estimators': 100, 'knn__n_neighbors': 1, 'logistic__C': 0.1, 'tree__max_depth': 3}\n",
            "0.990 +/- 0.003 {'forest__n_estimators': 100, 'knn__n_neighbors': 1, 'logistic__C': 0.1, 'tree__max_depth': 4}\n",
            "0.992 +/- 0.003 {'forest__n_estimators': 100, 'knn__n_neighbors': 1, 'logistic__C': 0.1, 'tree__max_depth': 5}\n",
            "0.982 +/- 0.005 {'forest__n_estimators': 100, 'knn__n_neighbors': 1, 'logistic__C': 100.0, 'tree__max_depth': 1}\n",
            "0.987 +/- 0.003 {'forest__n_estimators': 100, 'knn__n_neighbors': 1, 'logistic__C': 100.0, 'tree__max_depth': 2}\n",
            "0.989 +/- 0.003 {'forest__n_estimators': 100, 'knn__n_neighbors': 1, 'logistic__C': 100.0, 'tree__max_depth': 3}\n",
            "0.991 +/- 0.003 {'forest__n_estimators': 100, 'knn__n_neighbors': 1, 'logistic__C': 100.0, 'tree__max_depth': 4}\n",
            "0.993 +/- 0.002 {'forest__n_estimators': 100, 'knn__n_neighbors': 1, 'logistic__C': 100.0, 'tree__max_depth': 5}\n",
            "0.977 +/- 0.005 {'forest__n_estimators': 100, 'knn__n_neighbors': 2, 'logistic__C': 0.001, 'tree__max_depth': 1}\n",
            "0.982 +/- 0.004 {'forest__n_estimators': 100, 'knn__n_neighbors': 2, 'logistic__C': 0.001, 'tree__max_depth': 2}\n",
            "0.985 +/- 0.004 {'forest__n_estimators': 100, 'knn__n_neighbors': 2, 'logistic__C': 0.001, 'tree__max_depth': 3}\n",
            "0.989 +/- 0.003 {'forest__n_estimators': 100, 'knn__n_neighbors': 2, 'logistic__C': 0.001, 'tree__max_depth': 4}\n",
            "0.990 +/- 0.003 {'forest__n_estimators': 100, 'knn__n_neighbors': 2, 'logistic__C': 0.001, 'tree__max_depth': 5}\n",
            "0.982 +/- 0.005 {'forest__n_estimators': 100, 'knn__n_neighbors': 2, 'logistic__C': 0.1, 'tree__max_depth': 1}\n",
            "0.986 +/- 0.004 {'forest__n_estimators': 100, 'knn__n_neighbors': 2, 'logistic__C': 0.1, 'tree__max_depth': 2}\n",
            "0.988 +/- 0.004 {'forest__n_estimators': 100, 'knn__n_neighbors': 2, 'logistic__C': 0.1, 'tree__max_depth': 3}\n",
            "0.991 +/- 0.003 {'forest__n_estimators': 100, 'knn__n_neighbors': 2, 'logistic__C': 0.1, 'tree__max_depth': 4}\n",
            "0.992 +/- 0.003 {'forest__n_estimators': 100, 'knn__n_neighbors': 2, 'logistic__C': 0.1, 'tree__max_depth': 5}\n",
            "0.985 +/- 0.005 {'forest__n_estimators': 100, 'knn__n_neighbors': 2, 'logistic__C': 100.0, 'tree__max_depth': 1}\n",
            "0.989 +/- 0.003 {'forest__n_estimators': 100, 'knn__n_neighbors': 2, 'logistic__C': 100.0, 'tree__max_depth': 2}\n",
            "0.990 +/- 0.003 {'forest__n_estimators': 100, 'knn__n_neighbors': 2, 'logistic__C': 100.0, 'tree__max_depth': 3}\n",
            "0.992 +/- 0.003 {'forest__n_estimators': 100, 'knn__n_neighbors': 2, 'logistic__C': 100.0, 'tree__max_depth': 4}\n",
            "0.993 +/- 0.002 {'forest__n_estimators': 100, 'knn__n_neighbors': 2, 'logistic__C': 100.0, 'tree__max_depth': 5}\n",
            "0.978 +/- 0.005 {'forest__n_estimators': 100, 'knn__n_neighbors': 3, 'logistic__C': 0.001, 'tree__max_depth': 1}\n",
            "0.983 +/- 0.004 {'forest__n_estimators': 100, 'knn__n_neighbors': 3, 'logistic__C': 0.001, 'tree__max_depth': 2}\n",
            "0.986 +/- 0.004 {'forest__n_estimators': 100, 'knn__n_neighbors': 3, 'logistic__C': 0.001, 'tree__max_depth': 3}\n",
            "0.989 +/- 0.003 {'forest__n_estimators': 100, 'knn__n_neighbors': 3, 'logistic__C': 0.001, 'tree__max_depth': 4}\n",
            "0.990 +/- 0.003 {'forest__n_estimators': 100, 'knn__n_neighbors': 3, 'logistic__C': 0.001, 'tree__max_depth': 5}\n",
            "0.983 +/- 0.005 {'forest__n_estimators': 100, 'knn__n_neighbors': 3, 'logistic__C': 0.1, 'tree__max_depth': 1}\n",
            "0.986 +/- 0.003 {'forest__n_estimators': 100, 'knn__n_neighbors': 3, 'logistic__C': 0.1, 'tree__max_depth': 2}\n",
            "0.989 +/- 0.003 {'forest__n_estimators': 100, 'knn__n_neighbors': 3, 'logistic__C': 0.1, 'tree__max_depth': 3}\n",
            "0.990 +/- 0.003 {'forest__n_estimators': 100, 'knn__n_neighbors': 3, 'logistic__C': 0.1, 'tree__max_depth': 4}\n",
            "0.991 +/- 0.003 {'forest__n_estimators': 100, 'knn__n_neighbors': 3, 'logistic__C': 0.1, 'tree__max_depth': 5}\n",
            "0.985 +/- 0.004 {'forest__n_estimators': 100, 'knn__n_neighbors': 3, 'logistic__C': 100.0, 'tree__max_depth': 1}\n",
            "0.989 +/- 0.003 {'forest__n_estimators': 100, 'knn__n_neighbors': 3, 'logistic__C': 100.0, 'tree__max_depth': 2}\n",
            "0.990 +/- 0.003 {'forest__n_estimators': 100, 'knn__n_neighbors': 3, 'logistic__C': 100.0, 'tree__max_depth': 3}\n",
            "0.992 +/- 0.003 {'forest__n_estimators': 100, 'knn__n_neighbors': 3, 'logistic__C': 100.0, 'tree__max_depth': 4}\n",
            "0.993 +/- 0.003 {'forest__n_estimators': 100, 'knn__n_neighbors': 3, 'logistic__C': 100.0, 'tree__max_depth': 5}\n",
            "0.979 +/- 0.004 {'forest__n_estimators': 100, 'knn__n_neighbors': 4, 'logistic__C': 0.001, 'tree__max_depth': 1}\n",
            "0.983 +/- 0.003 {'forest__n_estimators': 100, 'knn__n_neighbors': 4, 'logistic__C': 0.001, 'tree__max_depth': 2}\n",
            "0.986 +/- 0.004 {'forest__n_estimators': 100, 'knn__n_neighbors': 4, 'logistic__C': 0.001, 'tree__max_depth': 3}\n",
            "0.990 +/- 0.003 {'forest__n_estimators': 100, 'knn__n_neighbors': 4, 'logistic__C': 0.001, 'tree__max_depth': 4}\n",
            "0.990 +/- 0.003 {'forest__n_estimators': 100, 'knn__n_neighbors': 4, 'logistic__C': 0.001, 'tree__max_depth': 5}\n",
            "0.984 +/- 0.004 {'forest__n_estimators': 100, 'knn__n_neighbors': 4, 'logistic__C': 0.1, 'tree__max_depth': 1}\n",
            "0.987 +/- 0.003 {'forest__n_estimators': 100, 'knn__n_neighbors': 4, 'logistic__C': 0.1, 'tree__max_depth': 2}\n",
            "0.989 +/- 0.003 {'forest__n_estimators': 100, 'knn__n_neighbors': 4, 'logistic__C': 0.1, 'tree__max_depth': 3}\n",
            "0.992 +/- 0.003 {'forest__n_estimators': 100, 'knn__n_neighbors': 4, 'logistic__C': 0.1, 'tree__max_depth': 4}\n",
            "0.992 +/- 0.003 {'forest__n_estimators': 100, 'knn__n_neighbors': 4, 'logistic__C': 0.1, 'tree__max_depth': 5}\n",
            "0.986 +/- 0.004 {'forest__n_estimators': 100, 'knn__n_neighbors': 4, 'logistic__C': 100.0, 'tree__max_depth': 1}\n",
            "0.989 +/- 0.003 {'forest__n_estimators': 100, 'knn__n_neighbors': 4, 'logistic__C': 100.0, 'tree__max_depth': 2}\n",
            "0.991 +/- 0.003 {'forest__n_estimators': 100, 'knn__n_neighbors': 4, 'logistic__C': 100.0, 'tree__max_depth': 3}\n",
            "0.993 +/- 0.002 {'forest__n_estimators': 100, 'knn__n_neighbors': 4, 'logistic__C': 100.0, 'tree__max_depth': 4}\n",
            "0.993 +/- 0.003 {'forest__n_estimators': 100, 'knn__n_neighbors': 4, 'logistic__C': 100.0, 'tree__max_depth': 5}\n",
            "0.978 +/- 0.004 {'forest__n_estimators': 100, 'knn__n_neighbors': 5, 'logistic__C': 0.001, 'tree__max_depth': 1}\n",
            "0.983 +/- 0.003 {'forest__n_estimators': 100, 'knn__n_neighbors': 5, 'logistic__C': 0.001, 'tree__max_depth': 2}\n",
            "0.986 +/- 0.004 {'forest__n_estimators': 100, 'knn__n_neighbors': 5, 'logistic__C': 0.001, 'tree__max_depth': 3}\n",
            "0.989 +/- 0.003 {'forest__n_estimators': 100, 'knn__n_neighbors': 5, 'logistic__C': 0.001, 'tree__max_depth': 4}\n",
            "0.990 +/- 0.003 {'forest__n_estimators': 100, 'knn__n_neighbors': 5, 'logistic__C': 0.001, 'tree__max_depth': 5}\n",
            "0.984 +/- 0.004 {'forest__n_estimators': 100, 'knn__n_neighbors': 5, 'logistic__C': 0.1, 'tree__max_depth': 1}\n",
            "0.987 +/- 0.003 {'forest__n_estimators': 100, 'knn__n_neighbors': 5, 'logistic__C': 0.1, 'tree__max_depth': 2}\n",
            "0.989 +/- 0.003 {'forest__n_estimators': 100, 'knn__n_neighbors': 5, 'logistic__C': 0.1, 'tree__max_depth': 3}\n",
            "0.992 +/- 0.003 {'forest__n_estimators': 100, 'knn__n_neighbors': 5, 'logistic__C': 0.1, 'tree__max_depth': 4}\n",
            "0.992 +/- 0.003 {'forest__n_estimators': 100, 'knn__n_neighbors': 5, 'logistic__C': 0.1, 'tree__max_depth': 5}\n",
            "0.986 +/- 0.004 {'forest__n_estimators': 100, 'knn__n_neighbors': 5, 'logistic__C': 100.0, 'tree__max_depth': 1}\n",
            "0.989 +/- 0.003 {'forest__n_estimators': 100, 'knn__n_neighbors': 5, 'logistic__C': 100.0, 'tree__max_depth': 2}\n",
            "0.991 +/- 0.003 {'forest__n_estimators': 100, 'knn__n_neighbors': 5, 'logistic__C': 100.0, 'tree__max_depth': 3}\n",
            "0.993 +/- 0.003 {'forest__n_estimators': 100, 'knn__n_neighbors': 5, 'logistic__C': 100.0, 'tree__max_depth': 4}\n",
            "0.993 +/- 0.003 {'forest__n_estimators': 100, 'knn__n_neighbors': 5, 'logistic__C': 100.0, 'tree__max_depth': 5}\n",
            "0.972 +/- 0.005 {'forest__n_estimators': 200, 'knn__n_neighbors': 1, 'logistic__C': 0.001, 'tree__max_depth': 1}\n",
            "0.978 +/- 0.004 {'forest__n_estimators': 200, 'knn__n_neighbors': 1, 'logistic__C': 0.001, 'tree__max_depth': 2}\n",
            "0.984 +/- 0.004 {'forest__n_estimators': 200, 'knn__n_neighbors': 1, 'logistic__C': 0.001, 'tree__max_depth': 3}\n",
            "0.989 +/- 0.003 {'forest__n_estimators': 200, 'knn__n_neighbors': 1, 'logistic__C': 0.001, 'tree__max_depth': 4}\n",
            "0.990 +/- 0.003 {'forest__n_estimators': 200, 'knn__n_neighbors': 1, 'logistic__C': 0.001, 'tree__max_depth': 5}\n",
            "0.980 +/- 0.005 {'forest__n_estimators': 200, 'knn__n_neighbors': 1, 'logistic__C': 0.1, 'tree__max_depth': 1}\n",
            "0.984 +/- 0.003 {'forest__n_estimators': 200, 'knn__n_neighbors': 1, 'logistic__C': 0.1, 'tree__max_depth': 2}\n",
            "0.987 +/- 0.004 {'forest__n_estimators': 200, 'knn__n_neighbors': 1, 'logistic__C': 0.1, 'tree__max_depth': 3}\n",
            "0.990 +/- 0.003 {'forest__n_estimators': 200, 'knn__n_neighbors': 1, 'logistic__C': 0.1, 'tree__max_depth': 4}\n",
            "0.992 +/- 0.003 {'forest__n_estimators': 200, 'knn__n_neighbors': 1, 'logistic__C': 0.1, 'tree__max_depth': 5}\n",
            "0.983 +/- 0.005 {'forest__n_estimators': 200, 'knn__n_neighbors': 1, 'logistic__C': 100.0, 'tree__max_depth': 1}\n",
            "0.988 +/- 0.003 {'forest__n_estimators': 200, 'knn__n_neighbors': 1, 'logistic__C': 100.0, 'tree__max_depth': 2}\n",
            "0.990 +/- 0.003 {'forest__n_estimators': 200, 'knn__n_neighbors': 1, 'logistic__C': 100.0, 'tree__max_depth': 3}\n",
            "0.991 +/- 0.003 {'forest__n_estimators': 200, 'knn__n_neighbors': 1, 'logistic__C': 100.0, 'tree__max_depth': 4}\n",
            "0.993 +/- 0.002 {'forest__n_estimators': 200, 'knn__n_neighbors': 1, 'logistic__C': 100.0, 'tree__max_depth': 5}\n",
            "0.977 +/- 0.005 {'forest__n_estimators': 200, 'knn__n_neighbors': 2, 'logistic__C': 0.001, 'tree__max_depth': 1}\n",
            "0.982 +/- 0.004 {'forest__n_estimators': 200, 'knn__n_neighbors': 2, 'logistic__C': 0.001, 'tree__max_depth': 2}\n",
            "0.985 +/- 0.004 {'forest__n_estimators': 200, 'knn__n_neighbors': 2, 'logistic__C': 0.001, 'tree__max_depth': 3}\n",
            "0.989 +/- 0.003 {'forest__n_estimators': 200, 'knn__n_neighbors': 2, 'logistic__C': 0.001, 'tree__max_depth': 4}\n",
            "0.990 +/- 0.003 {'forest__n_estimators': 200, 'knn__n_neighbors': 2, 'logistic__C': 0.001, 'tree__max_depth': 5}\n",
            "0.983 +/- 0.004 {'forest__n_estimators': 200, 'knn__n_neighbors': 2, 'logistic__C': 0.1, 'tree__max_depth': 1}\n",
            "0.986 +/- 0.003 {'forest__n_estimators': 200, 'knn__n_neighbors': 2, 'logistic__C': 0.1, 'tree__max_depth': 2}\n",
            "0.989 +/- 0.003 {'forest__n_estimators': 200, 'knn__n_neighbors': 2, 'logistic__C': 0.1, 'tree__max_depth': 3}\n",
            "0.991 +/- 0.003 {'forest__n_estimators': 200, 'knn__n_neighbors': 2, 'logistic__C': 0.1, 'tree__max_depth': 4}\n",
            "0.992 +/- 0.003 {'forest__n_estimators': 200, 'knn__n_neighbors': 2, 'logistic__C': 0.1, 'tree__max_depth': 5}\n",
            "0.986 +/- 0.004 {'forest__n_estimators': 200, 'knn__n_neighbors': 2, 'logistic__C': 100.0, 'tree__max_depth': 1}\n",
            "0.989 +/- 0.003 {'forest__n_estimators': 200, 'knn__n_neighbors': 2, 'logistic__C': 100.0, 'tree__max_depth': 2}\n",
            "0.991 +/- 0.003 {'forest__n_estimators': 200, 'knn__n_neighbors': 2, 'logistic__C': 100.0, 'tree__max_depth': 3}\n",
            "0.992 +/- 0.003 {'forest__n_estimators': 200, 'knn__n_neighbors': 2, 'logistic__C': 100.0, 'tree__max_depth': 4}\n",
            "0.993 +/- 0.002 {'forest__n_estimators': 200, 'knn__n_neighbors': 2, 'logistic__C': 100.0, 'tree__max_depth': 5}\n",
            "0.978 +/- 0.005 {'forest__n_estimators': 200, 'knn__n_neighbors': 3, 'logistic__C': 0.001, 'tree__max_depth': 1}\n",
            "0.983 +/- 0.004 {'forest__n_estimators': 200, 'knn__n_neighbors': 3, 'logistic__C': 0.001, 'tree__max_depth': 2}\n",
            "0.986 +/- 0.004 {'forest__n_estimators': 200, 'knn__n_neighbors': 3, 'logistic__C': 0.001, 'tree__max_depth': 3}\n",
            "0.989 +/- 0.003 {'forest__n_estimators': 200, 'knn__n_neighbors': 3, 'logistic__C': 0.001, 'tree__max_depth': 4}\n",
            "0.990 +/- 0.003 {'forest__n_estimators': 200, 'knn__n_neighbors': 3, 'logistic__C': 0.001, 'tree__max_depth': 5}\n",
            "0.984 +/- 0.004 {'forest__n_estimators': 200, 'knn__n_neighbors': 3, 'logistic__C': 0.1, 'tree__max_depth': 1}\n",
            "0.987 +/- 0.003 {'forest__n_estimators': 200, 'knn__n_neighbors': 3, 'logistic__C': 0.1, 'tree__max_depth': 2}\n",
            "0.989 +/- 0.003 {'forest__n_estimators': 200, 'knn__n_neighbors': 3, 'logistic__C': 0.1, 'tree__max_depth': 3}\n",
            "0.991 +/- 0.003 {'forest__n_estimators': 200, 'knn__n_neighbors': 3, 'logistic__C': 0.1, 'tree__max_depth': 4}\n",
            "0.992 +/- 0.003 {'forest__n_estimators': 200, 'knn__n_neighbors': 3, 'logistic__C': 0.1, 'tree__max_depth': 5}\n",
            "0.986 +/- 0.004 {'forest__n_estimators': 200, 'knn__n_neighbors': 3, 'logistic__C': 100.0, 'tree__max_depth': 1}\n",
            "0.989 +/- 0.003 {'forest__n_estimators': 200, 'knn__n_neighbors': 3, 'logistic__C': 100.0, 'tree__max_depth': 2}\n",
            "0.990 +/- 0.003 {'forest__n_estimators': 200, 'knn__n_neighbors': 3, 'logistic__C': 100.0, 'tree__max_depth': 3}\n",
            "0.992 +/- 0.003 {'forest__n_estimators': 200, 'knn__n_neighbors': 3, 'logistic__C': 100.0, 'tree__max_depth': 4}\n",
            "0.993 +/- 0.002 {'forest__n_estimators': 200, 'knn__n_neighbors': 3, 'logistic__C': 100.0, 'tree__max_depth': 5}\n",
            "0.979 +/- 0.004 {'forest__n_estimators': 200, 'knn__n_neighbors': 4, 'logistic__C': 0.001, 'tree__max_depth': 1}\n",
            "0.983 +/- 0.003 {'forest__n_estimators': 200, 'knn__n_neighbors': 4, 'logistic__C': 0.001, 'tree__max_depth': 2}\n",
            "0.987 +/- 0.004 {'forest__n_estimators': 200, 'knn__n_neighbors': 4, 'logistic__C': 0.001, 'tree__max_depth': 3}\n",
            "0.990 +/- 0.003 {'forest__n_estimators': 200, 'knn__n_neighbors': 4, 'logistic__C': 0.001, 'tree__max_depth': 4}\n",
            "0.990 +/- 0.003 {'forest__n_estimators': 200, 'knn__n_neighbors': 4, 'logistic__C': 0.001, 'tree__max_depth': 5}\n",
            "0.984 +/- 0.004 {'forest__n_estimators': 200, 'knn__n_neighbors': 4, 'logistic__C': 0.1, 'tree__max_depth': 1}\n",
            "0.987 +/- 0.003 {'forest__n_estimators': 200, 'knn__n_neighbors': 4, 'logistic__C': 0.1, 'tree__max_depth': 2}\n",
            "0.989 +/- 0.003 {'forest__n_estimators': 200, 'knn__n_neighbors': 4, 'logistic__C': 0.1, 'tree__max_depth': 3}\n",
            "0.992 +/- 0.003 {'forest__n_estimators': 200, 'knn__n_neighbors': 4, 'logistic__C': 0.1, 'tree__max_depth': 4}\n",
            "0.992 +/- 0.003 {'forest__n_estimators': 200, 'knn__n_neighbors': 4, 'logistic__C': 0.1, 'tree__max_depth': 5}\n",
            "0.987 +/- 0.004 {'forest__n_estimators': 200, 'knn__n_neighbors': 4, 'logistic__C': 100.0, 'tree__max_depth': 1}\n",
            "0.989 +/- 0.003 {'forest__n_estimators': 200, 'knn__n_neighbors': 4, 'logistic__C': 100.0, 'tree__max_depth': 2}\n",
            "0.991 +/- 0.003 {'forest__n_estimators': 200, 'knn__n_neighbors': 4, 'logistic__C': 100.0, 'tree__max_depth': 3}\n",
            "0.993 +/- 0.002 {'forest__n_estimators': 200, 'knn__n_neighbors': 4, 'logistic__C': 100.0, 'tree__max_depth': 4}\n",
            "0.993 +/- 0.003 {'forest__n_estimators': 200, 'knn__n_neighbors': 4, 'logistic__C': 100.0, 'tree__max_depth': 5}\n",
            "0.979 +/- 0.004 {'forest__n_estimators': 200, 'knn__n_neighbors': 5, 'logistic__C': 0.001, 'tree__max_depth': 1}\n",
            "0.983 +/- 0.003 {'forest__n_estimators': 200, 'knn__n_neighbors': 5, 'logistic__C': 0.001, 'tree__max_depth': 2}\n",
            "0.986 +/- 0.004 {'forest__n_estimators': 200, 'knn__n_neighbors': 5, 'logistic__C': 0.001, 'tree__max_depth': 3}\n",
            "0.990 +/- 0.003 {'forest__n_estimators': 200, 'knn__n_neighbors': 5, 'logistic__C': 0.001, 'tree__max_depth': 4}\n",
            "0.990 +/- 0.003 {'forest__n_estimators': 200, 'knn__n_neighbors': 5, 'logistic__C': 0.001, 'tree__max_depth': 5}\n",
            "0.984 +/- 0.004 {'forest__n_estimators': 200, 'knn__n_neighbors': 5, 'logistic__C': 0.1, 'tree__max_depth': 1}\n",
            "0.987 +/- 0.003 {'forest__n_estimators': 200, 'knn__n_neighbors': 5, 'logistic__C': 0.1, 'tree__max_depth': 2}\n",
            "0.989 +/- 0.003 {'forest__n_estimators': 200, 'knn__n_neighbors': 5, 'logistic__C': 0.1, 'tree__max_depth': 3}\n",
            "0.992 +/- 0.003 {'forest__n_estimators': 200, 'knn__n_neighbors': 5, 'logistic__C': 0.1, 'tree__max_depth': 4}\n",
            "0.992 +/- 0.003 {'forest__n_estimators': 200, 'knn__n_neighbors': 5, 'logistic__C': 0.1, 'tree__max_depth': 5}\n",
            "0.987 +/- 0.004 {'forest__n_estimators': 200, 'knn__n_neighbors': 5, 'logistic__C': 100.0, 'tree__max_depth': 1}\n",
            "0.989 +/- 0.003 {'forest__n_estimators': 200, 'knn__n_neighbors': 5, 'logistic__C': 100.0, 'tree__max_depth': 2}\n",
            "0.991 +/- 0.003 {'forest__n_estimators': 200, 'knn__n_neighbors': 5, 'logistic__C': 100.0, 'tree__max_depth': 3}\n",
            "0.993 +/- 0.003 {'forest__n_estimators': 200, 'knn__n_neighbors': 5, 'logistic__C': 100.0, 'tree__max_depth': 4}\n",
            "0.993 +/- 0.003 {'forest__n_estimators': 200, 'knn__n_neighbors': 5, 'logistic__C': 100.0, 'tree__max_depth': 5}\n",
            "0.972 +/- 0.005 {'forest__n_estimators': 300, 'knn__n_neighbors': 1, 'logistic__C': 0.001, 'tree__max_depth': 1}\n",
            "0.979 +/- 0.004 {'forest__n_estimators': 300, 'knn__n_neighbors': 1, 'logistic__C': 0.001, 'tree__max_depth': 2}\n",
            "0.984 +/- 0.004 {'forest__n_estimators': 300, 'knn__n_neighbors': 1, 'logistic__C': 0.001, 'tree__max_depth': 3}\n",
            "0.989 +/- 0.003 {'forest__n_estimators': 300, 'knn__n_neighbors': 1, 'logistic__C': 0.001, 'tree__max_depth': 4}\n",
            "0.990 +/- 0.003 {'forest__n_estimators': 300, 'knn__n_neighbors': 1, 'logistic__C': 0.001, 'tree__max_depth': 5}\n",
            "0.980 +/- 0.005 {'forest__n_estimators': 300, 'knn__n_neighbors': 1, 'logistic__C': 0.1, 'tree__max_depth': 1}\n",
            "0.984 +/- 0.003 {'forest__n_estimators': 300, 'knn__n_neighbors': 1, 'logistic__C': 0.1, 'tree__max_depth': 2}\n",
            "0.987 +/- 0.003 {'forest__n_estimators': 300, 'knn__n_neighbors': 1, 'logistic__C': 0.1, 'tree__max_depth': 3}\n",
            "0.990 +/- 0.003 {'forest__n_estimators': 300, 'knn__n_neighbors': 1, 'logistic__C': 0.1, 'tree__max_depth': 4}\n",
            "0.992 +/- 0.002 {'forest__n_estimators': 300, 'knn__n_neighbors': 1, 'logistic__C': 0.1, 'tree__max_depth': 5}\n",
            "0.983 +/- 0.005 {'forest__n_estimators': 300, 'knn__n_neighbors': 1, 'logistic__C': 100.0, 'tree__max_depth': 1}\n",
            "0.988 +/- 0.003 {'forest__n_estimators': 300, 'knn__n_neighbors': 1, 'logistic__C': 100.0, 'tree__max_depth': 2}\n",
            "0.990 +/- 0.003 {'forest__n_estimators': 300, 'knn__n_neighbors': 1, 'logistic__C': 100.0, 'tree__max_depth': 3}\n",
            "0.991 +/- 0.003 {'forest__n_estimators': 300, 'knn__n_neighbors': 1, 'logistic__C': 100.0, 'tree__max_depth': 4}\n",
            "0.993 +/- 0.002 {'forest__n_estimators': 300, 'knn__n_neighbors': 1, 'logistic__C': 100.0, 'tree__max_depth': 5}\n",
            "0.977 +/- 0.005 {'forest__n_estimators': 300, 'knn__n_neighbors': 2, 'logistic__C': 0.001, 'tree__max_depth': 1}\n",
            "0.982 +/- 0.004 {'forest__n_estimators': 300, 'knn__n_neighbors': 2, 'logistic__C': 0.001, 'tree__max_depth': 2}\n",
            "0.985 +/- 0.004 {'forest__n_estimators': 300, 'knn__n_neighbors': 2, 'logistic__C': 0.001, 'tree__max_depth': 3}\n",
            "0.989 +/- 0.003 {'forest__n_estimators': 300, 'knn__n_neighbors': 2, 'logistic__C': 0.001, 'tree__max_depth': 4}\n",
            "0.990 +/- 0.003 {'forest__n_estimators': 300, 'knn__n_neighbors': 2, 'logistic__C': 0.001, 'tree__max_depth': 5}\n",
            "0.983 +/- 0.004 {'forest__n_estimators': 300, 'knn__n_neighbors': 2, 'logistic__C': 0.1, 'tree__max_depth': 1}\n",
            "0.986 +/- 0.003 {'forest__n_estimators': 300, 'knn__n_neighbors': 2, 'logistic__C': 0.1, 'tree__max_depth': 2}\n",
            "0.989 +/- 0.003 {'forest__n_estimators': 300, 'knn__n_neighbors': 2, 'logistic__C': 0.1, 'tree__max_depth': 3}\n",
            "0.991 +/- 0.003 {'forest__n_estimators': 300, 'knn__n_neighbors': 2, 'logistic__C': 0.1, 'tree__max_depth': 4}\n",
            "0.992 +/- 0.003 {'forest__n_estimators': 300, 'knn__n_neighbors': 2, 'logistic__C': 0.1, 'tree__max_depth': 5}\n",
            "0.986 +/- 0.004 {'forest__n_estimators': 300, 'knn__n_neighbors': 2, 'logistic__C': 100.0, 'tree__max_depth': 1}\n",
            "0.989 +/- 0.003 {'forest__n_estimators': 300, 'knn__n_neighbors': 2, 'logistic__C': 100.0, 'tree__max_depth': 2}\n",
            "0.991 +/- 0.003 {'forest__n_estimators': 300, 'knn__n_neighbors': 2, 'logistic__C': 100.0, 'tree__max_depth': 3}\n",
            "0.992 +/- 0.003 {'forest__n_estimators': 300, 'knn__n_neighbors': 2, 'logistic__C': 100.0, 'tree__max_depth': 4}\n",
            "0.993 +/- 0.002 {'forest__n_estimators': 300, 'knn__n_neighbors': 2, 'logistic__C': 100.0, 'tree__max_depth': 5}\n",
            "0.978 +/- 0.005 {'forest__n_estimators': 300, 'knn__n_neighbors': 3, 'logistic__C': 0.001, 'tree__max_depth': 1}\n",
            "0.983 +/- 0.004 {'forest__n_estimators': 300, 'knn__n_neighbors': 3, 'logistic__C': 0.001, 'tree__max_depth': 2}\n",
            "0.986 +/- 0.004 {'forest__n_estimators': 300, 'knn__n_neighbors': 3, 'logistic__C': 0.001, 'tree__max_depth': 3}\n",
            "0.989 +/- 0.003 {'forest__n_estimators': 300, 'knn__n_neighbors': 3, 'logistic__C': 0.001, 'tree__max_depth': 4}\n",
            "0.990 +/- 0.003 {'forest__n_estimators': 300, 'knn__n_neighbors': 3, 'logistic__C': 0.001, 'tree__max_depth': 5}\n",
            "0.984 +/- 0.004 {'forest__n_estimators': 300, 'knn__n_neighbors': 3, 'logistic__C': 0.1, 'tree__max_depth': 1}\n",
            "0.987 +/- 0.003 {'forest__n_estimators': 300, 'knn__n_neighbors': 3, 'logistic__C': 0.1, 'tree__max_depth': 2}\n",
            "0.989 +/- 0.003 {'forest__n_estimators': 300, 'knn__n_neighbors': 3, 'logistic__C': 0.1, 'tree__max_depth': 3}\n",
            "0.991 +/- 0.003 {'forest__n_estimators': 300, 'knn__n_neighbors': 3, 'logistic__C': 0.1, 'tree__max_depth': 4}\n",
            "0.992 +/- 0.003 {'forest__n_estimators': 300, 'knn__n_neighbors': 3, 'logistic__C': 0.1, 'tree__max_depth': 5}\n",
            "0.986 +/- 0.004 {'forest__n_estimators': 300, 'knn__n_neighbors': 3, 'logistic__C': 100.0, 'tree__max_depth': 1}\n",
            "0.989 +/- 0.003 {'forest__n_estimators': 300, 'knn__n_neighbors': 3, 'logistic__C': 100.0, 'tree__max_depth': 2}\n",
            "0.991 +/- 0.003 {'forest__n_estimators': 300, 'knn__n_neighbors': 3, 'logistic__C': 100.0, 'tree__max_depth': 3}\n",
            "0.992 +/- 0.003 {'forest__n_estimators': 300, 'knn__n_neighbors': 3, 'logistic__C': 100.0, 'tree__max_depth': 4}\n",
            "0.993 +/- 0.002 {'forest__n_estimators': 300, 'knn__n_neighbors': 3, 'logistic__C': 100.0, 'tree__max_depth': 5}\n",
            "0.979 +/- 0.004 {'forest__n_estimators': 300, 'knn__n_neighbors': 4, 'logistic__C': 0.001, 'tree__max_depth': 1}\n",
            "0.983 +/- 0.003 {'forest__n_estimators': 300, 'knn__n_neighbors': 4, 'logistic__C': 0.001, 'tree__max_depth': 2}\n",
            "0.987 +/- 0.004 {'forest__n_estimators': 300, 'knn__n_neighbors': 4, 'logistic__C': 0.001, 'tree__max_depth': 3}\n",
            "0.990 +/- 0.003 {'forest__n_estimators': 300, 'knn__n_neighbors': 4, 'logistic__C': 0.001, 'tree__max_depth': 4}\n",
            "0.990 +/- 0.003 {'forest__n_estimators': 300, 'knn__n_neighbors': 4, 'logistic__C': 0.001, 'tree__max_depth': 5}\n",
            "0.984 +/- 0.004 {'forest__n_estimators': 300, 'knn__n_neighbors': 4, 'logistic__C': 0.1, 'tree__max_depth': 1}\n",
            "0.987 +/- 0.003 {'forest__n_estimators': 300, 'knn__n_neighbors': 4, 'logistic__C': 0.1, 'tree__max_depth': 2}\n",
            "0.989 +/- 0.003 {'forest__n_estimators': 300, 'knn__n_neighbors': 4, 'logistic__C': 0.1, 'tree__max_depth': 3}\n",
            "0.992 +/- 0.003 {'forest__n_estimators': 300, 'knn__n_neighbors': 4, 'logistic__C': 0.1, 'tree__max_depth': 4}\n",
            "0.992 +/- 0.003 {'forest__n_estimators': 300, 'knn__n_neighbors': 4, 'logistic__C': 0.1, 'tree__max_depth': 5}\n",
            "0.987 +/- 0.004 {'forest__n_estimators': 300, 'knn__n_neighbors': 4, 'logistic__C': 100.0, 'tree__max_depth': 1}\n",
            "0.990 +/- 0.003 {'forest__n_estimators': 300, 'knn__n_neighbors': 4, 'logistic__C': 100.0, 'tree__max_depth': 2}\n",
            "0.991 +/- 0.003 {'forest__n_estimators': 300, 'knn__n_neighbors': 4, 'logistic__C': 100.0, 'tree__max_depth': 3}\n",
            "0.993 +/- 0.002 {'forest__n_estimators': 300, 'knn__n_neighbors': 4, 'logistic__C': 100.0, 'tree__max_depth': 4}\n",
            "0.993 +/- 0.002 {'forest__n_estimators': 300, 'knn__n_neighbors': 4, 'logistic__C': 100.0, 'tree__max_depth': 5}\n",
            "0.979 +/- 0.004 {'forest__n_estimators': 300, 'knn__n_neighbors': 5, 'logistic__C': 0.001, 'tree__max_depth': 1}\n",
            "0.983 +/- 0.003 {'forest__n_estimators': 300, 'knn__n_neighbors': 5, 'logistic__C': 0.001, 'tree__max_depth': 2}\n",
            "0.986 +/- 0.004 {'forest__n_estimators': 300, 'knn__n_neighbors': 5, 'logistic__C': 0.001, 'tree__max_depth': 3}\n",
            "0.990 +/- 0.003 {'forest__n_estimators': 300, 'knn__n_neighbors': 5, 'logistic__C': 0.001, 'tree__max_depth': 4}\n",
            "0.990 +/- 0.003 {'forest__n_estimators': 300, 'knn__n_neighbors': 5, 'logistic__C': 0.001, 'tree__max_depth': 5}\n",
            "0.984 +/- 0.004 {'forest__n_estimators': 300, 'knn__n_neighbors': 5, 'logistic__C': 0.1, 'tree__max_depth': 1}\n",
            "0.987 +/- 0.003 {'forest__n_estimators': 300, 'knn__n_neighbors': 5, 'logistic__C': 0.1, 'tree__max_depth': 2}\n",
            "0.990 +/- 0.003 {'forest__n_estimators': 300, 'knn__n_neighbors': 5, 'logistic__C': 0.1, 'tree__max_depth': 3}\n",
            "0.992 +/- 0.003 {'forest__n_estimators': 300, 'knn__n_neighbors': 5, 'logistic__C': 0.1, 'tree__max_depth': 4}\n",
            "0.992 +/- 0.003 {'forest__n_estimators': 300, 'knn__n_neighbors': 5, 'logistic__C': 0.1, 'tree__max_depth': 5}\n",
            "0.987 +/- 0.004 {'forest__n_estimators': 300, 'knn__n_neighbors': 5, 'logistic__C': 100.0, 'tree__max_depth': 1}\n",
            "0.989 +/- 0.003 {'forest__n_estimators': 300, 'knn__n_neighbors': 5, 'logistic__C': 100.0, 'tree__max_depth': 2}\n",
            "0.991 +/- 0.003 {'forest__n_estimators': 300, 'knn__n_neighbors': 5, 'logistic__C': 100.0, 'tree__max_depth': 3}\n",
            "0.993 +/- 0.003 {'forest__n_estimators': 300, 'knn__n_neighbors': 5, 'logistic__C': 100.0, 'tree__max_depth': 4}\n",
            "0.993 +/- 0.003 {'forest__n_estimators': 300, 'knn__n_neighbors': 5, 'logistic__C': 100.0, 'tree__max_depth': 5}\n",
            "0.972 +/- 0.005 {'forest__n_estimators': 400, 'knn__n_neighbors': 1, 'logistic__C': 0.001, 'tree__max_depth': 1}\n",
            "0.979 +/- 0.004 {'forest__n_estimators': 400, 'knn__n_neighbors': 1, 'logistic__C': 0.001, 'tree__max_depth': 2}\n",
            "0.984 +/- 0.004 {'forest__n_estimators': 400, 'knn__n_neighbors': 1, 'logistic__C': 0.001, 'tree__max_depth': 3}\n",
            "0.989 +/- 0.003 {'forest__n_estimators': 400, 'knn__n_neighbors': 1, 'logistic__C': 0.001, 'tree__max_depth': 4}\n",
            "0.990 +/- 0.003 {'forest__n_estimators': 400, 'knn__n_neighbors': 1, 'logistic__C': 0.001, 'tree__max_depth': 5}\n",
            "0.980 +/- 0.005 {'forest__n_estimators': 400, 'knn__n_neighbors': 1, 'logistic__C': 0.1, 'tree__max_depth': 1}\n",
            "0.984 +/- 0.003 {'forest__n_estimators': 400, 'knn__n_neighbors': 1, 'logistic__C': 0.1, 'tree__max_depth': 2}\n",
            "0.987 +/- 0.003 {'forest__n_estimators': 400, 'knn__n_neighbors': 1, 'logistic__C': 0.1, 'tree__max_depth': 3}\n",
            "0.990 +/- 0.003 {'forest__n_estimators': 400, 'knn__n_neighbors': 1, 'logistic__C': 0.1, 'tree__max_depth': 4}\n",
            "0.992 +/- 0.002 {'forest__n_estimators': 400, 'knn__n_neighbors': 1, 'logistic__C': 0.1, 'tree__max_depth': 5}\n",
            "0.983 +/- 0.005 {'forest__n_estimators': 400, 'knn__n_neighbors': 1, 'logistic__C': 100.0, 'tree__max_depth': 1}\n",
            "0.988 +/- 0.003 {'forest__n_estimators': 400, 'knn__n_neighbors': 1, 'logistic__C': 100.0, 'tree__max_depth': 2}\n",
            "0.990 +/- 0.003 {'forest__n_estimators': 400, 'knn__n_neighbors': 1, 'logistic__C': 100.0, 'tree__max_depth': 3}\n",
            "0.991 +/- 0.003 {'forest__n_estimators': 400, 'knn__n_neighbors': 1, 'logistic__C': 100.0, 'tree__max_depth': 4}\n",
            "0.993 +/- 0.002 {'forest__n_estimators': 400, 'knn__n_neighbors': 1, 'logistic__C': 100.0, 'tree__max_depth': 5}\n",
            "0.977 +/- 0.005 {'forest__n_estimators': 400, 'knn__n_neighbors': 2, 'logistic__C': 0.001, 'tree__max_depth': 1}\n",
            "0.982 +/- 0.004 {'forest__n_estimators': 400, 'knn__n_neighbors': 2, 'logistic__C': 0.001, 'tree__max_depth': 2}\n",
            "0.985 +/- 0.004 {'forest__n_estimators': 400, 'knn__n_neighbors': 2, 'logistic__C': 0.001, 'tree__max_depth': 3}\n",
            "0.989 +/- 0.003 {'forest__n_estimators': 400, 'knn__n_neighbors': 2, 'logistic__C': 0.001, 'tree__max_depth': 4}\n",
            "0.990 +/- 0.003 {'forest__n_estimators': 400, 'knn__n_neighbors': 2, 'logistic__C': 0.001, 'tree__max_depth': 5}\n",
            "0.983 +/- 0.004 {'forest__n_estimators': 400, 'knn__n_neighbors': 2, 'logistic__C': 0.1, 'tree__max_depth': 1}\n",
            "0.986 +/- 0.004 {'forest__n_estimators': 400, 'knn__n_neighbors': 2, 'logistic__C': 0.1, 'tree__max_depth': 2}\n",
            "0.989 +/- 0.003 {'forest__n_estimators': 400, 'knn__n_neighbors': 2, 'logistic__C': 0.1, 'tree__max_depth': 3}\n",
            "0.991 +/- 0.003 {'forest__n_estimators': 400, 'knn__n_neighbors': 2, 'logistic__C': 0.1, 'tree__max_depth': 4}\n",
            "0.992 +/- 0.003 {'forest__n_estimators': 400, 'knn__n_neighbors': 2, 'logistic__C': 0.1, 'tree__max_depth': 5}\n",
            "0.986 +/- 0.004 {'forest__n_estimators': 400, 'knn__n_neighbors': 2, 'logistic__C': 100.0, 'tree__max_depth': 1}\n",
            "0.989 +/- 0.003 {'forest__n_estimators': 400, 'knn__n_neighbors': 2, 'logistic__C': 100.0, 'tree__max_depth': 2}\n",
            "0.991 +/- 0.003 {'forest__n_estimators': 400, 'knn__n_neighbors': 2, 'logistic__C': 100.0, 'tree__max_depth': 3}\n",
            "0.992 +/- 0.003 {'forest__n_estimators': 400, 'knn__n_neighbors': 2, 'logistic__C': 100.0, 'tree__max_depth': 4}\n",
            "0.993 +/- 0.002 {'forest__n_estimators': 400, 'knn__n_neighbors': 2, 'logistic__C': 100.0, 'tree__max_depth': 5}\n",
            "0.978 +/- 0.005 {'forest__n_estimators': 400, 'knn__n_neighbors': 3, 'logistic__C': 0.001, 'tree__max_depth': 1}\n",
            "0.983 +/- 0.004 {'forest__n_estimators': 400, 'knn__n_neighbors': 3, 'logistic__C': 0.001, 'tree__max_depth': 2}\n",
            "0.986 +/- 0.004 {'forest__n_estimators': 400, 'knn__n_neighbors': 3, 'logistic__C': 0.001, 'tree__max_depth': 3}\n",
            "0.989 +/- 0.003 {'forest__n_estimators': 400, 'knn__n_neighbors': 3, 'logistic__C': 0.001, 'tree__max_depth': 4}\n",
            "0.990 +/- 0.003 {'forest__n_estimators': 400, 'knn__n_neighbors': 3, 'logistic__C': 0.001, 'tree__max_depth': 5}\n",
            "0.984 +/- 0.004 {'forest__n_estimators': 400, 'knn__n_neighbors': 3, 'logistic__C': 0.1, 'tree__max_depth': 1}\n",
            "0.987 +/- 0.003 {'forest__n_estimators': 400, 'knn__n_neighbors': 3, 'logistic__C': 0.1, 'tree__max_depth': 2}\n",
            "0.989 +/- 0.003 {'forest__n_estimators': 400, 'knn__n_neighbors': 3, 'logistic__C': 0.1, 'tree__max_depth': 3}\n",
            "0.991 +/- 0.003 {'forest__n_estimators': 400, 'knn__n_neighbors': 3, 'logistic__C': 0.1, 'tree__max_depth': 4}\n",
            "0.992 +/- 0.003 {'forest__n_estimators': 400, 'knn__n_neighbors': 3, 'logistic__C': 0.1, 'tree__max_depth': 5}\n",
            "0.986 +/- 0.004 {'forest__n_estimators': 400, 'knn__n_neighbors': 3, 'logistic__C': 100.0, 'tree__max_depth': 1}\n",
            "0.989 +/- 0.003 {'forest__n_estimators': 400, 'knn__n_neighbors': 3, 'logistic__C': 100.0, 'tree__max_depth': 2}\n",
            "0.991 +/- 0.003 {'forest__n_estimators': 400, 'knn__n_neighbors': 3, 'logistic__C': 100.0, 'tree__max_depth': 3}\n",
            "0.992 +/- 0.003 {'forest__n_estimators': 400, 'knn__n_neighbors': 3, 'logistic__C': 100.0, 'tree__max_depth': 4}\n",
            "0.993 +/- 0.002 {'forest__n_estimators': 400, 'knn__n_neighbors': 3, 'logistic__C': 100.0, 'tree__max_depth': 5}\n",
            "0.979 +/- 0.004 {'forest__n_estimators': 400, 'knn__n_neighbors': 4, 'logistic__C': 0.001, 'tree__max_depth': 1}\n",
            "0.984 +/- 0.003 {'forest__n_estimators': 400, 'knn__n_neighbors': 4, 'logistic__C': 0.001, 'tree__max_depth': 2}\n",
            "0.987 +/- 0.004 {'forest__n_estimators': 400, 'knn__n_neighbors': 4, 'logistic__C': 0.001, 'tree__max_depth': 3}\n",
            "0.990 +/- 0.003 {'forest__n_estimators': 400, 'knn__n_neighbors': 4, 'logistic__C': 0.001, 'tree__max_depth': 4}\n",
            "0.990 +/- 0.003 {'forest__n_estimators': 400, 'knn__n_neighbors': 4, 'logistic__C': 0.001, 'tree__max_depth': 5}\n",
            "0.984 +/- 0.004 {'forest__n_estimators': 400, 'knn__n_neighbors': 4, 'logistic__C': 0.1, 'tree__max_depth': 1}\n",
            "0.987 +/- 0.003 {'forest__n_estimators': 400, 'knn__n_neighbors': 4, 'logistic__C': 0.1, 'tree__max_depth': 2}\n",
            "0.990 +/- 0.003 {'forest__n_estimators': 400, 'knn__n_neighbors': 4, 'logistic__C': 0.1, 'tree__max_depth': 3}\n",
            "0.992 +/- 0.003 {'forest__n_estimators': 400, 'knn__n_neighbors': 4, 'logistic__C': 0.1, 'tree__max_depth': 4}\n",
            "0.992 +/- 0.003 {'forest__n_estimators': 400, 'knn__n_neighbors': 4, 'logistic__C': 0.1, 'tree__max_depth': 5}\n",
            "0.987 +/- 0.004 {'forest__n_estimators': 400, 'knn__n_neighbors': 4, 'logistic__C': 100.0, 'tree__max_depth': 1}\n",
            "0.990 +/- 0.003 {'forest__n_estimators': 400, 'knn__n_neighbors': 4, 'logistic__C': 100.0, 'tree__max_depth': 2}\n",
            "0.991 +/- 0.003 {'forest__n_estimators': 400, 'knn__n_neighbors': 4, 'logistic__C': 100.0, 'tree__max_depth': 3}\n",
            "0.993 +/- 0.002 {'forest__n_estimators': 400, 'knn__n_neighbors': 4, 'logistic__C': 100.0, 'tree__max_depth': 4}\n",
            "0.993 +/- 0.002 {'forest__n_estimators': 400, 'knn__n_neighbors': 4, 'logistic__C': 100.0, 'tree__max_depth': 5}\n",
            "0.979 +/- 0.004 {'forest__n_estimators': 400, 'knn__n_neighbors': 5, 'logistic__C': 0.001, 'tree__max_depth': 1}\n",
            "0.983 +/- 0.003 {'forest__n_estimators': 400, 'knn__n_neighbors': 5, 'logistic__C': 0.001, 'tree__max_depth': 2}\n",
            "0.986 +/- 0.004 {'forest__n_estimators': 400, 'knn__n_neighbors': 5, 'logistic__C': 0.001, 'tree__max_depth': 3}\n",
            "0.990 +/- 0.003 {'forest__n_estimators': 400, 'knn__n_neighbors': 5, 'logistic__C': 0.001, 'tree__max_depth': 4}\n",
            "0.990 +/- 0.003 {'forest__n_estimators': 400, 'knn__n_neighbors': 5, 'logistic__C': 0.001, 'tree__max_depth': 5}\n",
            "0.984 +/- 0.004 {'forest__n_estimators': 400, 'knn__n_neighbors': 5, 'logistic__C': 0.1, 'tree__max_depth': 1}\n",
            "0.987 +/- 0.003 {'forest__n_estimators': 400, 'knn__n_neighbors': 5, 'logistic__C': 0.1, 'tree__max_depth': 2}\n",
            "0.990 +/- 0.003 {'forest__n_estimators': 400, 'knn__n_neighbors': 5, 'logistic__C': 0.1, 'tree__max_depth': 3}\n",
            "0.992 +/- 0.003 {'forest__n_estimators': 400, 'knn__n_neighbors': 5, 'logistic__C': 0.1, 'tree__max_depth': 4}\n",
            "0.992 +/- 0.003 {'forest__n_estimators': 400, 'knn__n_neighbors': 5, 'logistic__C': 0.1, 'tree__max_depth': 5}\n",
            "0.987 +/- 0.004 {'forest__n_estimators': 400, 'knn__n_neighbors': 5, 'logistic__C': 100.0, 'tree__max_depth': 1}\n",
            "0.989 +/- 0.003 {'forest__n_estimators': 400, 'knn__n_neighbors': 5, 'logistic__C': 100.0, 'tree__max_depth': 2}\n",
            "0.991 +/- 0.003 {'forest__n_estimators': 400, 'knn__n_neighbors': 5, 'logistic__C': 100.0, 'tree__max_depth': 3}\n",
            "0.993 +/- 0.003 {'forest__n_estimators': 400, 'knn__n_neighbors': 5, 'logistic__C': 100.0, 'tree__max_depth': 4}\n",
            "0.993 +/- 0.003 {'forest__n_estimators': 400, 'knn__n_neighbors': 5, 'logistic__C': 100.0, 'tree__max_depth': 5}\n",
            "0.972 +/- 0.005 {'forest__n_estimators': 500, 'knn__n_neighbors': 1, 'logistic__C': 0.001, 'tree__max_depth': 1}\n",
            "0.979 +/- 0.004 {'forest__n_estimators': 500, 'knn__n_neighbors': 1, 'logistic__C': 0.001, 'tree__max_depth': 2}\n",
            "0.984 +/- 0.004 {'forest__n_estimators': 500, 'knn__n_neighbors': 1, 'logistic__C': 0.001, 'tree__max_depth': 3}\n",
            "0.989 +/- 0.003 {'forest__n_estimators': 500, 'knn__n_neighbors': 1, 'logistic__C': 0.001, 'tree__max_depth': 4}\n",
            "0.990 +/- 0.003 {'forest__n_estimators': 500, 'knn__n_neighbors': 1, 'logistic__C': 0.001, 'tree__max_depth': 5}\n",
            "0.980 +/- 0.005 {'forest__n_estimators': 500, 'knn__n_neighbors': 1, 'logistic__C': 0.1, 'tree__max_depth': 1}\n",
            "0.984 +/- 0.003 {'forest__n_estimators': 500, 'knn__n_neighbors': 1, 'logistic__C': 0.1, 'tree__max_depth': 2}\n",
            "0.987 +/- 0.003 {'forest__n_estimators': 500, 'knn__n_neighbors': 1, 'logistic__C': 0.1, 'tree__max_depth': 3}\n",
            "0.990 +/- 0.003 {'forest__n_estimators': 500, 'knn__n_neighbors': 1, 'logistic__C': 0.1, 'tree__max_depth': 4}\n",
            "0.992 +/- 0.002 {'forest__n_estimators': 500, 'knn__n_neighbors': 1, 'logistic__C': 0.1, 'tree__max_depth': 5}\n",
            "0.983 +/- 0.005 {'forest__n_estimators': 500, 'knn__n_neighbors': 1, 'logistic__C': 100.0, 'tree__max_depth': 1}\n",
            "0.988 +/- 0.003 {'forest__n_estimators': 500, 'knn__n_neighbors': 1, 'logistic__C': 100.0, 'tree__max_depth': 2}\n",
            "0.990 +/- 0.003 {'forest__n_estimators': 500, 'knn__n_neighbors': 1, 'logistic__C': 100.0, 'tree__max_depth': 3}\n",
            "0.992 +/- 0.003 {'forest__n_estimators': 500, 'knn__n_neighbors': 1, 'logistic__C': 100.0, 'tree__max_depth': 4}\n",
            "0.993 +/- 0.002 {'forest__n_estimators': 500, 'knn__n_neighbors': 1, 'logistic__C': 100.0, 'tree__max_depth': 5}\n",
            "0.977 +/- 0.005 {'forest__n_estimators': 500, 'knn__n_neighbors': 2, 'logistic__C': 0.001, 'tree__max_depth': 1}\n",
            "0.982 +/- 0.004 {'forest__n_estimators': 500, 'knn__n_neighbors': 2, 'logistic__C': 0.001, 'tree__max_depth': 2}\n",
            "0.985 +/- 0.004 {'forest__n_estimators': 500, 'knn__n_neighbors': 2, 'logistic__C': 0.001, 'tree__max_depth': 3}\n",
            "0.989 +/- 0.003 {'forest__n_estimators': 500, 'knn__n_neighbors': 2, 'logistic__C': 0.001, 'tree__max_depth': 4}\n",
            "0.990 +/- 0.003 {'forest__n_estimators': 500, 'knn__n_neighbors': 2, 'logistic__C': 0.001, 'tree__max_depth': 5}\n",
            "0.983 +/- 0.004 {'forest__n_estimators': 500, 'knn__n_neighbors': 2, 'logistic__C': 0.1, 'tree__max_depth': 1}\n",
            "0.986 +/- 0.003 {'forest__n_estimators': 500, 'knn__n_neighbors': 2, 'logistic__C': 0.1, 'tree__max_depth': 2}\n",
            "0.989 +/- 0.003 {'forest__n_estimators': 500, 'knn__n_neighbors': 2, 'logistic__C': 0.1, 'tree__max_depth': 3}\n",
            "0.991 +/- 0.003 {'forest__n_estimators': 500, 'knn__n_neighbors': 2, 'logistic__C': 0.1, 'tree__max_depth': 4}\n",
            "0.992 +/- 0.003 {'forest__n_estimators': 500, 'knn__n_neighbors': 2, 'logistic__C': 0.1, 'tree__max_depth': 5}\n",
            "0.986 +/- 0.004 {'forest__n_estimators': 500, 'knn__n_neighbors': 2, 'logistic__C': 100.0, 'tree__max_depth': 1}\n",
            "0.989 +/- 0.003 {'forest__n_estimators': 500, 'knn__n_neighbors': 2, 'logistic__C': 100.0, 'tree__max_depth': 2}\n",
            "0.991 +/- 0.003 {'forest__n_estimators': 500, 'knn__n_neighbors': 2, 'logistic__C': 100.0, 'tree__max_depth': 3}\n",
            "0.992 +/- 0.003 {'forest__n_estimators': 500, 'knn__n_neighbors': 2, 'logistic__C': 100.0, 'tree__max_depth': 4}\n",
            "0.993 +/- 0.002 {'forest__n_estimators': 500, 'knn__n_neighbors': 2, 'logistic__C': 100.0, 'tree__max_depth': 5}\n",
            "0.978 +/- 0.005 {'forest__n_estimators': 500, 'knn__n_neighbors': 3, 'logistic__C': 0.001, 'tree__max_depth': 1}\n",
            "0.983 +/- 0.004 {'forest__n_estimators': 500, 'knn__n_neighbors': 3, 'logistic__C': 0.001, 'tree__max_depth': 2}\n",
            "0.986 +/- 0.004 {'forest__n_estimators': 500, 'knn__n_neighbors': 3, 'logistic__C': 0.001, 'tree__max_depth': 3}\n",
            "0.989 +/- 0.003 {'forest__n_estimators': 500, 'knn__n_neighbors': 3, 'logistic__C': 0.001, 'tree__max_depth': 4}\n",
            "0.990 +/- 0.003 {'forest__n_estimators': 500, 'knn__n_neighbors': 3, 'logistic__C': 0.001, 'tree__max_depth': 5}\n",
            "0.984 +/- 0.004 {'forest__n_estimators': 500, 'knn__n_neighbors': 3, 'logistic__C': 0.1, 'tree__max_depth': 1}\n",
            "0.987 +/- 0.003 {'forest__n_estimators': 500, 'knn__n_neighbors': 3, 'logistic__C': 0.1, 'tree__max_depth': 2}\n",
            "0.989 +/- 0.003 {'forest__n_estimators': 500, 'knn__n_neighbors': 3, 'logistic__C': 0.1, 'tree__max_depth': 3}\n",
            "0.991 +/- 0.003 {'forest__n_estimators': 500, 'knn__n_neighbors': 3, 'logistic__C': 0.1, 'tree__max_depth': 4}\n",
            "0.992 +/- 0.003 {'forest__n_estimators': 500, 'knn__n_neighbors': 3, 'logistic__C': 0.1, 'tree__max_depth': 5}\n",
            "0.986 +/- 0.004 {'forest__n_estimators': 500, 'knn__n_neighbors': 3, 'logistic__C': 100.0, 'tree__max_depth': 1}\n",
            "0.989 +/- 0.003 {'forest__n_estimators': 500, 'knn__n_neighbors': 3, 'logistic__C': 100.0, 'tree__max_depth': 2}\n",
            "0.990 +/- 0.003 {'forest__n_estimators': 500, 'knn__n_neighbors': 3, 'logistic__C': 100.0, 'tree__max_depth': 3}\n",
            "0.992 +/- 0.003 {'forest__n_estimators': 500, 'knn__n_neighbors': 3, 'logistic__C': 100.0, 'tree__max_depth': 4}\n",
            "0.993 +/- 0.002 {'forest__n_estimators': 500, 'knn__n_neighbors': 3, 'logistic__C': 100.0, 'tree__max_depth': 5}\n",
            "0.979 +/- 0.004 {'forest__n_estimators': 500, 'knn__n_neighbors': 4, 'logistic__C': 0.001, 'tree__max_depth': 1}\n",
            "0.984 +/- 0.003 {'forest__n_estimators': 500, 'knn__n_neighbors': 4, 'logistic__C': 0.001, 'tree__max_depth': 2}\n",
            "0.987 +/- 0.004 {'forest__n_estimators': 500, 'knn__n_neighbors': 4, 'logistic__C': 0.001, 'tree__max_depth': 3}\n",
            "0.990 +/- 0.003 {'forest__n_estimators': 500, 'knn__n_neighbors': 4, 'logistic__C': 0.001, 'tree__max_depth': 4}\n",
            "0.990 +/- 0.003 {'forest__n_estimators': 500, 'knn__n_neighbors': 4, 'logistic__C': 0.001, 'tree__max_depth': 5}\n",
            "0.984 +/- 0.004 {'forest__n_estimators': 500, 'knn__n_neighbors': 4, 'logistic__C': 0.1, 'tree__max_depth': 1}\n",
            "0.987 +/- 0.003 {'forest__n_estimators': 500, 'knn__n_neighbors': 4, 'logistic__C': 0.1, 'tree__max_depth': 2}\n",
            "0.989 +/- 0.003 {'forest__n_estimators': 500, 'knn__n_neighbors': 4, 'logistic__C': 0.1, 'tree__max_depth': 3}\n",
            "0.992 +/- 0.003 {'forest__n_estimators': 500, 'knn__n_neighbors': 4, 'logistic__C': 0.1, 'tree__max_depth': 4}\n",
            "0.992 +/- 0.003 {'forest__n_estimators': 500, 'knn__n_neighbors': 4, 'logistic__C': 0.1, 'tree__max_depth': 5}\n",
            "0.987 +/- 0.004 {'forest__n_estimators': 500, 'knn__n_neighbors': 4, 'logistic__C': 100.0, 'tree__max_depth': 1}\n",
            "0.990 +/- 0.003 {'forest__n_estimators': 500, 'knn__n_neighbors': 4, 'logistic__C': 100.0, 'tree__max_depth': 2}\n",
            "0.991 +/- 0.003 {'forest__n_estimators': 500, 'knn__n_neighbors': 4, 'logistic__C': 100.0, 'tree__max_depth': 3}\n",
            "0.993 +/- 0.002 {'forest__n_estimators': 500, 'knn__n_neighbors': 4, 'logistic__C': 100.0, 'tree__max_depth': 4}\n",
            "0.993 +/- 0.002 {'forest__n_estimators': 500, 'knn__n_neighbors': 4, 'logistic__C': 100.0, 'tree__max_depth': 5}\n",
            "0.979 +/- 0.004 {'forest__n_estimators': 500, 'knn__n_neighbors': 5, 'logistic__C': 0.001, 'tree__max_depth': 1}\n",
            "0.983 +/- 0.003 {'forest__n_estimators': 500, 'knn__n_neighbors': 5, 'logistic__C': 0.001, 'tree__max_depth': 2}\n",
            "0.986 +/- 0.004 {'forest__n_estimators': 500, 'knn__n_neighbors': 5, 'logistic__C': 0.001, 'tree__max_depth': 3}\n",
            "0.990 +/- 0.003 {'forest__n_estimators': 500, 'knn__n_neighbors': 5, 'logistic__C': 0.001, 'tree__max_depth': 4}\n",
            "0.990 +/- 0.003 {'forest__n_estimators': 500, 'knn__n_neighbors': 5, 'logistic__C': 0.001, 'tree__max_depth': 5}\n",
            "0.984 +/- 0.004 {'forest__n_estimators': 500, 'knn__n_neighbors': 5, 'logistic__C': 0.1, 'tree__max_depth': 1}\n",
            "0.987 +/- 0.003 {'forest__n_estimators': 500, 'knn__n_neighbors': 5, 'logistic__C': 0.1, 'tree__max_depth': 2}\n",
            "0.990 +/- 0.003 {'forest__n_estimators': 500, 'knn__n_neighbors': 5, 'logistic__C': 0.1, 'tree__max_depth': 3}\n",
            "0.992 +/- 0.003 {'forest__n_estimators': 500, 'knn__n_neighbors': 5, 'logistic__C': 0.1, 'tree__max_depth': 4}\n",
            "0.992 +/- 0.003 {'forest__n_estimators': 500, 'knn__n_neighbors': 5, 'logistic__C': 0.1, 'tree__max_depth': 5}\n",
            "0.987 +/- 0.004 {'forest__n_estimators': 500, 'knn__n_neighbors': 5, 'logistic__C': 100.0, 'tree__max_depth': 1}\n",
            "0.989 +/- 0.003 {'forest__n_estimators': 500, 'knn__n_neighbors': 5, 'logistic__C': 100.0, 'tree__max_depth': 2}\n",
            "0.991 +/- 0.003 {'forest__n_estimators': 500, 'knn__n_neighbors': 5, 'logistic__C': 100.0, 'tree__max_depth': 3}\n",
            "0.993 +/- 0.003 {'forest__n_estimators': 500, 'knn__n_neighbors': 5, 'logistic__C': 100.0, 'tree__max_depth': 4}\n",
            "0.993 +/- 0.003 {'forest__n_estimators': 500, 'knn__n_neighbors': 5, 'logistic__C': 100.0, 'tree__max_depth': 5}\n",
            "Spend time : 0.021 sec\n"
          ],
          "name": "stdout"
        }
      ]
    },
    {
      "cell_type": "code",
      "metadata": {
        "id": "7mAh_0TgkQpS",
        "outputId": "c7477710-dd02-41dd-c5d3-f3faa9d5e7a5",
        "colab": {
          "base_uri": "https://localhost:8080/",
          "height": 50
        }
      },
      "source": [
        "print('최적의 파타미터: %s' % grid.best_params_)\n",
        "print('ACU: %.3f' % grid.best_score_)"
      ],
      "execution_count": 24,
      "outputs": [
        {
          "output_type": "stream",
          "text": [
            "최적의 파타미터: {'forest__n_estimators': 400, 'knn__n_neighbors': 4, 'logistic__C': 100.0, 'tree__max_depth': 5}\n",
            "ACU: 0.993\n"
          ],
          "name": "stdout"
        }
      ]
    },
    {
      "cell_type": "code",
      "metadata": {
        "id": "GJb_-1clkQpU"
      },
      "source": [
        ""
      ],
      "execution_count": null,
      "outputs": []
    }
  ]
}